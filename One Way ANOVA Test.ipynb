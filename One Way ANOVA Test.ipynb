{
 "cells": [
  {
   "cell_type": "code",
   "execution_count": 2,
   "metadata": {},
   "outputs": [],
   "source": [
    "# Import libraries\n",
    "\n",
    "import pandas as pd\n",
    "import numpy as np\n",
    "\n",
    "import scipy.stats as stats\n",
    "import os\n",
    "import random\n",
    "\n",
    "import statsmodels.api as sm\n",
    "import statsmodels.stats.multicomp\n",
    "\n",
    "from statsmodels.formula.api import ols\n",
    "from statsmodels.stats.anova import anova_lm\n",
    "import matplotlib.pyplot as plt\n",
    "from scipy import stats\n",
    "import seaborn as sns\n",
    "\n",
    "\n",
    "os.getcwd()\n",
    "os.chdir('C:\\Lecture10')\n",
    "# os.chdir('C:\\Ipsita-AI-2023\\ANOVA-Test-COVID-19')"
   ]
  },
  {
   "cell_type": "code",
   "execution_count": 3,
   "metadata": {},
   "outputs": [],
   "source": [
    "#Load data\n",
    "StatewiseTestingDetails=pd.read_csv('./StatewiseTestingDetails.csv')\n",
    "population_india_census2011=pd.read_csv('./population_india_census2011.csv')"
   ]
  },
  {
   "cell_type": "code",
   "execution_count": 4,
   "metadata": {},
   "outputs": [
    {
     "data": {
      "text/html": [
       "<div>\n",
       "<style scoped>\n",
       "    .dataframe tbody tr th:only-of-type {\n",
       "        vertical-align: middle;\n",
       "    }\n",
       "\n",
       "    .dataframe tbody tr th {\n",
       "        vertical-align: top;\n",
       "    }\n",
       "\n",
       "    .dataframe thead th {\n",
       "        text-align: right;\n",
       "    }\n",
       "</style>\n",
       "<table border=\"1\" class=\"dataframe\">\n",
       "  <thead>\n",
       "    <tr style=\"text-align: right;\">\n",
       "      <th></th>\n",
       "      <th>Sno</th>\n",
       "      <th>State</th>\n",
       "      <th>Population</th>\n",
       "      <th>Rural population</th>\n",
       "      <th>Urban population</th>\n",
       "      <th>Area</th>\n",
       "      <th>Density</th>\n",
       "      <th>Gender Ratio</th>\n",
       "    </tr>\n",
       "  </thead>\n",
       "  <tbody>\n",
       "    <tr>\n",
       "      <th>0</th>\n",
       "      <td>1</td>\n",
       "      <td>Uttar Pradesh</td>\n",
       "      <td>199812341</td>\n",
       "      <td>155317278</td>\n",
       "      <td>44495063</td>\n",
       "      <td>240,928 km2 (93,023 sq mi)</td>\n",
       "      <td>828/km2 (2,140/sq mi)</td>\n",
       "      <td>912</td>\n",
       "    </tr>\n",
       "    <tr>\n",
       "      <th>1</th>\n",
       "      <td>2</td>\n",
       "      <td>Maharashtra</td>\n",
       "      <td>112374333</td>\n",
       "      <td>61556074</td>\n",
       "      <td>50818259</td>\n",
       "      <td>307,713 km2 (118,809 sq mi)</td>\n",
       "      <td>365/km2 (950/sq mi)</td>\n",
       "      <td>929</td>\n",
       "    </tr>\n",
       "    <tr>\n",
       "      <th>2</th>\n",
       "      <td>3</td>\n",
       "      <td>Bihar</td>\n",
       "      <td>104099452</td>\n",
       "      <td>92341436</td>\n",
       "      <td>11758016</td>\n",
       "      <td>94,163 km2 (36,357 sq mi)</td>\n",
       "      <td>1,102/km2 (2,850/sq mi)</td>\n",
       "      <td>918</td>\n",
       "    </tr>\n",
       "    <tr>\n",
       "      <th>3</th>\n",
       "      <td>4</td>\n",
       "      <td>West Bengal</td>\n",
       "      <td>91276115</td>\n",
       "      <td>62183113</td>\n",
       "      <td>29093002</td>\n",
       "      <td>88,752 km2 (34,267 sq mi)</td>\n",
       "      <td>1,029/km2 (2,670/sq mi)</td>\n",
       "      <td>953</td>\n",
       "    </tr>\n",
       "    <tr>\n",
       "      <th>4</th>\n",
       "      <td>5</td>\n",
       "      <td>Madhya Pradesh</td>\n",
       "      <td>72626809</td>\n",
       "      <td>52557404</td>\n",
       "      <td>20069405</td>\n",
       "      <td>308,245 km2 (119,014 sq mi)</td>\n",
       "      <td>236/km2 (610/sq mi)</td>\n",
       "      <td>931</td>\n",
       "    </tr>\n",
       "  </tbody>\n",
       "</table>\n",
       "</div>"
      ],
      "text/plain": [
       "   Sno           State  Population  Rural population  Urban population   \n",
       "0    1   Uttar Pradesh   199812341         155317278          44495063  \\\n",
       "1    2     Maharashtra   112374333          61556074          50818259   \n",
       "2    3           Bihar   104099452          92341436          11758016   \n",
       "3    4     West Bengal    91276115          62183113          29093002   \n",
       "4    5  Madhya Pradesh    72626809          52557404          20069405   \n",
       "\n",
       "                          Area                  Density  Gender Ratio  \n",
       "0   240,928 km2 (93,023 sq mi)    828/km2 (2,140/sq mi)           912  \n",
       "1  307,713 km2 (118,809 sq mi)      365/km2 (950/sq mi)           929  \n",
       "2    94,163 km2 (36,357 sq mi)  1,102/km2 (2,850/sq mi)           918  \n",
       "3    88,752 km2 (34,267 sq mi)  1,029/km2 (2,670/sq mi)           953  \n",
       "4  308,245 km2 (119,014 sq mi)      236/km2 (610/sq mi)           931  "
      ]
     },
     "execution_count": 4,
     "metadata": {},
     "output_type": "execute_result"
    }
   ],
   "source": [
    "population_india_census2011.head()"
   ]
  },
  {
   "cell_type": "code",
   "execution_count": 5,
   "metadata": {},
   "outputs": [
    {
     "data": {
      "text/html": [
       "<div>\n",
       "<style scoped>\n",
       "    .dataframe tbody tr th:only-of-type {\n",
       "        vertical-align: middle;\n",
       "    }\n",
       "\n",
       "    .dataframe tbody tr th {\n",
       "        vertical-align: top;\n",
       "    }\n",
       "\n",
       "    .dataframe thead th {\n",
       "        text-align: right;\n",
       "    }\n",
       "</style>\n",
       "<table border=\"1\" class=\"dataframe\">\n",
       "  <thead>\n",
       "    <tr style=\"text-align: right;\">\n",
       "      <th></th>\n",
       "      <th>Date</th>\n",
       "      <th>State</th>\n",
       "      <th>TotalSamples</th>\n",
       "      <th>Negative</th>\n",
       "      <th>Positive</th>\n",
       "    </tr>\n",
       "  </thead>\n",
       "  <tbody>\n",
       "    <tr>\n",
       "      <th>0</th>\n",
       "      <td>17-04-2020</td>\n",
       "      <td>Andaman and Nicobar Islands</td>\n",
       "      <td>1403</td>\n",
       "      <td>1210.0</td>\n",
       "      <td>12.0</td>\n",
       "    </tr>\n",
       "    <tr>\n",
       "      <th>1</th>\n",
       "      <td>24-04-2020</td>\n",
       "      <td>Andaman and Nicobar Islands</td>\n",
       "      <td>2679</td>\n",
       "      <td>NaN</td>\n",
       "      <td>27.0</td>\n",
       "    </tr>\n",
       "    <tr>\n",
       "      <th>2</th>\n",
       "      <td>27-04-2020</td>\n",
       "      <td>Andaman and Nicobar Islands</td>\n",
       "      <td>2848</td>\n",
       "      <td>NaN</td>\n",
       "      <td>33.0</td>\n",
       "    </tr>\n",
       "    <tr>\n",
       "      <th>3</th>\n",
       "      <td>01-05-2020</td>\n",
       "      <td>Andaman and Nicobar Islands</td>\n",
       "      <td>3754</td>\n",
       "      <td>NaN</td>\n",
       "      <td>33.0</td>\n",
       "    </tr>\n",
       "    <tr>\n",
       "      <th>4</th>\n",
       "      <td>02-04-2020</td>\n",
       "      <td>Andhra Pradesh</td>\n",
       "      <td>1800</td>\n",
       "      <td>1175.0</td>\n",
       "      <td>132.0</td>\n",
       "    </tr>\n",
       "  </tbody>\n",
       "</table>\n",
       "</div>"
      ],
      "text/plain": [
       "         Date                        State  TotalSamples  Negative  Positive\n",
       "0  17-04-2020  Andaman and Nicobar Islands          1403    1210.0      12.0\n",
       "1  24-04-2020  Andaman and Nicobar Islands          2679       NaN      27.0\n",
       "2  27-04-2020  Andaman and Nicobar Islands          2848       NaN      33.0\n",
       "3  01-05-2020  Andaman and Nicobar Islands          3754       NaN      33.0\n",
       "4  02-04-2020               Andhra Pradesh          1800    1175.0     132.0"
      ]
     },
     "execution_count": 5,
     "metadata": {},
     "output_type": "execute_result"
    }
   ],
   "source": [
    "StatewiseTestingDetails.head()"
   ]
  },
  {
   "cell_type": "code",
   "execution_count": 6,
   "metadata": {},
   "outputs": [
    {
     "data": {
      "text/plain": [
       "510    0.0\n",
       "501    0.0\n",
       "502    0.0\n",
       "503    0.0\n",
       "504    0.0\n",
       "Name: Positive, dtype: float64"
      ]
     },
     "execution_count": 6,
     "metadata": {},
     "output_type": "execute_result"
    }
   ],
   "source": [
    "StatewiseTestingDetails['Positive'].sort_values().head()"
   ]
  },
  {
   "cell_type": "code",
   "execution_count": 7,
   "metadata": {},
   "outputs": [
    {
     "data": {
      "text/plain": [
       "array(['Nagaland', 'Sikkim'], dtype=object)"
      ]
     },
     "execution_count": 7,
     "metadata": {},
     "output_type": "execute_result"
    }
   ],
   "source": [
    "#List down the states which have 0 corona cases\n",
    "StatewiseTestingDetails['State'][StatewiseTestingDetails['Positive']==0].unique()"
   ]
  },
  {
   "cell_type": "code",
   "execution_count": 8,
   "metadata": {},
   "outputs": [
    {
     "data": {
      "text/plain": [
       "array(['Arunachal Pradesh', 'Mizoram'], dtype=object)"
      ]
     },
     "execution_count": 8,
     "metadata": {},
     "output_type": "execute_result"
    }
   ],
   "source": [
    "#List down the states which have 1 corona cases\n",
    "StatewiseTestingDetails['State'][StatewiseTestingDetails['Positive']==1].unique()"
   ]
  },
  {
   "cell_type": "code",
   "execution_count": 10,
   "metadata": {},
   "outputs": [
    {
     "name": "stdout",
     "output_type": "stream",
     "text": [
      "0        14.0\n",
      "1        29.0\n",
      "2        35.0\n",
      "3        35.0\n",
      "4       134.0\n",
      "        ...  \n",
      "754     760.0\n",
      "755       NaN\n",
      "756     797.0\n",
      "757     924.0\n",
      "758    1261.0\n",
      "Name: Positive, Length: 759, dtype: float64\n"
     ]
    }
   ],
   "source": [
    "##We see that there're many entries with 0. That means no case has been detected. So we can add 1 in all entries.\n",
    "#So while perfroming any sort of Data transformation that involves log in it , won't give error.\n",
    "StatewiseTestingDetails['Positive']=StatewiseTestingDetails['Positive']+1\n",
    "print(StatewiseTestingDetails['Positive'])"
   ]
  },
  {
   "cell_type": "code",
   "execution_count": 12,
   "metadata": {},
   "outputs": [
    {
     "data": {
      "text/plain": [
       "510    2.0\n",
       "501    2.0\n",
       "502    2.0\n",
       "503    2.0\n",
       "504    2.0\n",
       "      ... \n",
       "731    NaN\n",
       "732    NaN\n",
       "733    NaN\n",
       "734    NaN\n",
       "755    NaN\n",
       "Name: Positive, Length: 759, dtype: float64"
      ]
     },
     "execution_count": 12,
     "metadata": {},
     "output_type": "execute_result"
    }
   ],
   "source": [
    "StatewiseTestingDetails['Positive'].sort_values()"
   ]
  },
  {
   "cell_type": "code",
   "execution_count": 13,
   "metadata": {},
   "outputs": [
    {
     "data": {
      "text/html": [
       "<div>\n",
       "<style scoped>\n",
       "    .dataframe tbody tr th:only-of-type {\n",
       "        vertical-align: middle;\n",
       "    }\n",
       "\n",
       "    .dataframe tbody tr th {\n",
       "        vertical-align: top;\n",
       "    }\n",
       "\n",
       "    .dataframe thead th {\n",
       "        text-align: right;\n",
       "    }\n",
       "</style>\n",
       "<table border=\"1\" class=\"dataframe\">\n",
       "  <thead>\n",
       "    <tr style=\"text-align: right;\">\n",
       "      <th></th>\n",
       "      <th>State</th>\n",
       "      <th>Median</th>\n",
       "    </tr>\n",
       "  </thead>\n",
       "  <tbody>\n",
       "    <tr>\n",
       "      <th>0</th>\n",
       "      <td>Andaman and Nicobar Islands</td>\n",
       "      <td>32.0</td>\n",
       "    </tr>\n",
       "    <tr>\n",
       "      <th>1</th>\n",
       "      <td>Andhra Pradesh</td>\n",
       "      <td>815.0</td>\n",
       "    </tr>\n",
       "    <tr>\n",
       "      <th>2</th>\n",
       "      <td>Arunachal Pradesh</td>\n",
       "      <td>4.0</td>\n",
       "    </tr>\n",
       "    <tr>\n",
       "      <th>3</th>\n",
       "      <td>Assam</td>\n",
       "      <td>36.0</td>\n",
       "    </tr>\n",
       "    <tr>\n",
       "      <th>4</th>\n",
       "      <td>Bihar</td>\n",
       "      <td>107.5</td>\n",
       "    </tr>\n",
       "  </tbody>\n",
       "</table>\n",
       "</div>"
      ],
      "text/plain": [
       "                         State  Median\n",
       "0  Andaman and Nicobar Islands    32.0\n",
       "1               Andhra Pradesh   815.0\n",
       "2            Arunachal Pradesh     4.0\n",
       "3                        Assam    36.0\n",
       "4                        Bihar   107.5"
      ]
     },
     "execution_count": 13,
     "metadata": {},
     "output_type": "execute_result"
    }
   ],
   "source": [
    "#Imput missing values by median of each state\n",
    "stateMedianData=StatewiseTestingDetails.groupby('State')[['Positive']].median().\\\n",
    "                                    reset_index().rename(columns={'Positive':'Median'})\n",
    "stateMedianData.head()"
   ]
  },
  {
   "cell_type": "code",
   "execution_count": 14,
   "metadata": {},
   "outputs": [
    {
     "data": {
      "text/html": [
       "<div>\n",
       "<style scoped>\n",
       "    .dataframe tbody tr th:only-of-type {\n",
       "        vertical-align: middle;\n",
       "    }\n",
       "\n",
       "    .dataframe tbody tr th {\n",
       "        vertical-align: top;\n",
       "    }\n",
       "\n",
       "    .dataframe thead th {\n",
       "        text-align: right;\n",
       "    }\n",
       "</style>\n",
       "<table border=\"1\" class=\"dataframe\">\n",
       "  <thead>\n",
       "    <tr style=\"text-align: right;\">\n",
       "      <th></th>\n",
       "      <th>Date</th>\n",
       "      <th>State</th>\n",
       "      <th>TotalSamples</th>\n",
       "      <th>Negative</th>\n",
       "      <th>Positive</th>\n",
       "    </tr>\n",
       "  </thead>\n",
       "  <tbody>\n",
       "    <tr>\n",
       "      <th>0</th>\n",
       "      <td>17-04-2020</td>\n",
       "      <td>Andaman and Nicobar Islands</td>\n",
       "      <td>1403</td>\n",
       "      <td>1210.0</td>\n",
       "      <td>14.0</td>\n",
       "    </tr>\n",
       "    <tr>\n",
       "      <th>1</th>\n",
       "      <td>24-04-2020</td>\n",
       "      <td>Andaman and Nicobar Islands</td>\n",
       "      <td>2679</td>\n",
       "      <td>NaN</td>\n",
       "      <td>29.0</td>\n",
       "    </tr>\n",
       "    <tr>\n",
       "      <th>2</th>\n",
       "      <td>27-04-2020</td>\n",
       "      <td>Andaman and Nicobar Islands</td>\n",
       "      <td>2848</td>\n",
       "      <td>NaN</td>\n",
       "      <td>35.0</td>\n",
       "    </tr>\n",
       "    <tr>\n",
       "      <th>3</th>\n",
       "      <td>01-05-2020</td>\n",
       "      <td>Andaman and Nicobar Islands</td>\n",
       "      <td>3754</td>\n",
       "      <td>NaN</td>\n",
       "      <td>35.0</td>\n",
       "    </tr>\n",
       "    <tr>\n",
       "      <th>4</th>\n",
       "      <td>02-04-2020</td>\n",
       "      <td>Andhra Pradesh</td>\n",
       "      <td>1800</td>\n",
       "      <td>1175.0</td>\n",
       "      <td>134.0</td>\n",
       "    </tr>\n",
       "  </tbody>\n",
       "</table>\n",
       "</div>"
      ],
      "text/plain": [
       "         Date                        State  TotalSamples  Negative  Positive\n",
       "0  17-04-2020  Andaman and Nicobar Islands          1403    1210.0      14.0\n",
       "1  24-04-2020  Andaman and Nicobar Islands          2679       NaN      29.0\n",
       "2  27-04-2020  Andaman and Nicobar Islands          2848       NaN      35.0\n",
       "3  01-05-2020  Andaman and Nicobar Islands          3754       NaN      35.0\n",
       "4  02-04-2020               Andhra Pradesh          1800    1175.0     134.0"
      ]
     },
     "execution_count": 14,
     "metadata": {},
     "output_type": "execute_result"
    }
   ],
   "source": [
    "StatewiseTestingDetails.head()"
   ]
  },
  {
   "cell_type": "code",
   "execution_count": 21,
   "metadata": {},
   "outputs": [],
   "source": [
    "for index,row in StatewiseTestingDetails.iterrows():\n",
    "    if pd.isnull(row['Positive']):\n",
    "        StatewiseTestingDetails['Positive'][index]=int(stateMedianData['Median'][stateMedianData['State']==row['State']])\n",
    "        "
   ]
  },
  {
   "cell_type": "code",
   "execution_count": 22,
   "metadata": {},
   "outputs": [
    {
     "data": {
      "text/plain": [
       "510        2.0\n",
       "501        2.0\n",
       "502        2.0\n",
       "503        2.0\n",
       "504        2.0\n",
       "        ...   \n",
       "456    10500.0\n",
       "457    11508.0\n",
       "458    12298.0\n",
       "459    12976.0\n",
       "460    14543.0\n",
       "Name: Positive, Length: 759, dtype: float64"
      ]
     },
     "execution_count": 22,
     "metadata": {},
     "output_type": "execute_result"
    }
   ],
   "source": [
    "StatewiseTestingDetails['Positive'].sort_values()"
   ]
  },
  {
   "cell_type": "code",
   "execution_count": 24,
   "metadata": {},
   "outputs": [
    {
     "name": "stdout",
     "output_type": "stream",
     "text": [
      "           Date                        State  TotalSamples  Negative   \n",
      "0    17-04-2020  Andaman and Nicobar Islands          1403    1210.0  \\\n",
      "1    24-04-2020  Andaman and Nicobar Islands          2679       NaN   \n",
      "2    27-04-2020  Andaman and Nicobar Islands          2848       NaN   \n",
      "3    01-05-2020  Andaman and Nicobar Islands          3754       NaN   \n",
      "4    02-04-2020               Andhra Pradesh          1800    1175.0   \n",
      "..          ...                          ...           ...       ...   \n",
      "751  30-04-2020                  West Bengal         16525       NaN   \n",
      "752  01-05-2020                  West Bengal         18566       NaN   \n",
      "753  02-05-2020                  West Bengal         20976       NaN   \n",
      "754  03-05-2020                  West Bengal         22915       NaN   \n",
      "755  04-05-2020                  West Bengal         25116       NaN   \n",
      "\n",
      "     Positive  Sno  Population  Rural population  Urban population   \n",
      "0        14.0   34      380581            237093            143488  \\\n",
      "1        29.0   34      380581            237093            143488   \n",
      "2        35.0   34      380581            237093            143488   \n",
      "3        35.0   34      380581            237093            143488   \n",
      "4       134.0   10    49577103          34966693          14610410   \n",
      "..        ...  ...         ...               ...               ...   \n",
      "751     760.0    4    91276115          62183113          29093002   \n",
      "752     409.0    4    91276115          62183113          29093002   \n",
      "753     797.0    4    91276115          62183113          29093002   \n",
      "754     924.0    4    91276115          62183113          29093002   \n",
      "755    1261.0    4    91276115          62183113          29093002   \n",
      "\n",
      "                           Area                  Density  Gender Ratio  \n",
      "0       8,249 km2 (3,185 sq mi)       46/km2 (120/sq mi)           876  \n",
      "1       8,249 km2 (3,185 sq mi)       46/km2 (120/sq mi)           876  \n",
      "2       8,249 km2 (3,185 sq mi)       46/km2 (120/sq mi)           876  \n",
      "3       8,249 km2 (3,185 sq mi)       46/km2 (120/sq mi)           876  \n",
      "4    162,968 km2 (62,922 sq mi)      303/km2 (780/sq mi)           993  \n",
      "..                          ...                      ...           ...  \n",
      "751   88,752 km2 (34,267 sq mi)  1,029/km2 (2,670/sq mi)           953  \n",
      "752   88,752 km2 (34,267 sq mi)  1,029/km2 (2,670/sq mi)           953  \n",
      "753   88,752 km2 (34,267 sq mi)  1,029/km2 (2,670/sq mi)           953  \n",
      "754   88,752 km2 (34,267 sq mi)  1,029/km2 (2,670/sq mi)           953  \n",
      "755   88,752 km2 (34,267 sq mi)  1,029/km2 (2,670/sq mi)           953  \n",
      "\n",
      "[756 rows x 12 columns]\n"
     ]
    }
   ],
   "source": [
    "#Merge StatewiseTestingDetails & population_india_census2011 dataframes\n",
    "data=pd.merge(StatewiseTestingDetails,population_india_census2011,on='State')\n",
    "print(data)"
   ]
  },
  {
   "cell_type": "code",
   "execution_count": 25,
   "metadata": {},
   "outputs": [
    {
     "data": {
      "text/plain": [
       "510        2.0\n",
       "501        2.0\n",
       "502        2.0\n",
       "503        2.0\n",
       "504        2.0\n",
       "        ...   \n",
       "456    10500.0\n",
       "457    11508.0\n",
       "458    12298.0\n",
       "459    12976.0\n",
       "460    14543.0\n",
       "Name: Positive, Length: 756, dtype: float64"
      ]
     },
     "execution_count": 25,
     "metadata": {},
     "output_type": "execute_result"
    }
   ],
   "source": [
    "##Sort the Data Frame\n",
    "data['Positive'].sort_values()"
   ]
  },
  {
   "cell_type": "code",
   "execution_count": 27,
   "metadata": {},
   "outputs": [
    {
     "name": "stdout",
     "output_type": "stream",
     "text": [
      "           Date                        State  TotalSamples  Negative   \n",
      "0    17-04-2020  Andaman and Nicobar Islands          1403    1210.0  \\\n",
      "1    24-04-2020  Andaman and Nicobar Islands          2679       NaN   \n",
      "2    27-04-2020  Andaman and Nicobar Islands          2848       NaN   \n",
      "3    01-05-2020  Andaman and Nicobar Islands          3754       NaN   \n",
      "4    02-04-2020               Andhra Pradesh          1800    1175.0   \n",
      "..          ...                          ...           ...       ...   \n",
      "751  30-04-2020                  West Bengal         16525       NaN   \n",
      "752  01-05-2020                  West Bengal         18566       NaN   \n",
      "753  02-05-2020                  West Bengal         20976       NaN   \n",
      "754  03-05-2020                  West Bengal         22915       NaN   \n",
      "755  04-05-2020                  West Bengal         25116       NaN   \n",
      "\n",
      "     Positive  Sno  Population  Rural population  Urban population   \n",
      "0        14.0   34      380581            237093            143488  \\\n",
      "1        29.0   34      380581            237093            143488   \n",
      "2        35.0   34      380581            237093            143488   \n",
      "3        35.0   34      380581            237093            143488   \n",
      "4       134.0   10    49577103          34966693          14610410   \n",
      "..        ...  ...         ...               ...               ...   \n",
      "751     760.0    4    91276115          62183113          29093002   \n",
      "752     409.0    4    91276115          62183113          29093002   \n",
      "753     797.0    4    91276115          62183113          29093002   \n",
      "754     924.0    4    91276115          62183113          29093002   \n",
      "755    1261.0    4    91276115          62183113          29093002   \n",
      "\n",
      "                           Area                  Density  Gender Ratio  \n",
      "0       8,249 km2 (3,185 sq mi)       46/km2 (120/sq mi)           876  \n",
      "1       8,249 km2 (3,185 sq mi)       46/km2 (120/sq mi)           876  \n",
      "2       8,249 km2 (3,185 sq mi)       46/km2 (120/sq mi)           876  \n",
      "3       8,249 km2 (3,185 sq mi)       46/km2 (120/sq mi)           876  \n",
      "4    162,968 km2 (62,922 sq mi)      303/km2 (780/sq mi)           993  \n",
      "..                          ...                      ...           ...  \n",
      "751   88,752 km2 (34,267 sq mi)  1,029/km2 (2,670/sq mi)           953  \n",
      "752   88,752 km2 (34,267 sq mi)  1,029/km2 (2,670/sq mi)           953  \n",
      "753   88,752 km2 (34,267 sq mi)  1,029/km2 (2,670/sq mi)           953  \n",
      "754   88,752 km2 (34,267 sq mi)  1,029/km2 (2,670/sq mi)           953  \n",
      "755   88,752 km2 (34,267 sq mi)  1,029/km2 (2,670/sq mi)           953  \n",
      "\n",
      "[756 rows x 12 columns]\n"
     ]
    }
   ],
   "source": [
    "#Write a function to create densityGroup bucket \n",
    "def densityCheck(data):\n",
    "    data['density_Group']=0\n",
    "    for index,row in data.iterrows():\n",
    "        status=None\n",
    "        i=row['Density'].split('/')[0]\n",
    "        try:\n",
    "            if (',' in i):\n",
    "                i=int(i.split(',')[0]+i.split(',')[1])\n",
    "            elif ('.' in i):\n",
    "                i=round(float(i))\n",
    "            else:\n",
    "                i=int(i)\n",
    "        except ValueError as err:\n",
    "            pass\n",
    "        try:\n",
    "            if (0<i<=300):\n",
    "                status='Dense1'\n",
    "            elif (300<i<=600):\n",
    "                status='Dense2'\n",
    "            elif (600<i<=900):\n",
    "                status='Dense3'\n",
    "            else:\n",
    "                status='Dense4'\n",
    "        except ValueError as err:\n",
    "            pass\n",
    "        data['density_Group'].iloc[index]=status\n",
    "    return data  \n",
    "print(data)\n",
    "    \n"
   ]
  },
  {
   "cell_type": "code",
   "execution_count": 28,
   "metadata": {},
   "outputs": [
    {
     "data": {
      "text/plain": [
       "Index(['Date', 'State', 'TotalSamples', 'Negative', 'Positive', 'Sno',\n",
       "       'Population', 'Rural population', 'Urban population', 'Area', 'Density',\n",
       "       'Gender Ratio'],\n",
       "      dtype='object')"
      ]
     },
     "execution_count": 28,
     "metadata": {},
     "output_type": "execute_result"
    }
   ],
   "source": [
    "data.columns\n"
   ]
  },
  {
   "cell_type": "code",
   "execution_count": 29,
   "metadata": {},
   "outputs": [
    {
     "data": {
      "text/plain": [
       "510        2.0\n",
       "501        2.0\n",
       "502        2.0\n",
       "503        2.0\n",
       "504        2.0\n",
       "        ...   \n",
       "456    10500.0\n",
       "457    11508.0\n",
       "458    12298.0\n",
       "459    12976.0\n",
       "460    14543.0\n",
       "Name: Positive, Length: 756, dtype: float64"
      ]
     },
     "execution_count": 29,
     "metadata": {},
     "output_type": "execute_result"
    }
   ],
   "source": [
    "data['Positive'].sort_values()"
   ]
  },
  {
   "cell_type": "code",
   "execution_count": 32,
   "metadata": {},
   "outputs": [
    {
     "name": "stderr",
     "output_type": "stream",
     "text": [
      "C:\\Users\\Zahid\\AppData\\Local\\Temp\\ipykernel_4868\\2742672746.py:27: SettingWithCopyWarning: \n",
      "A value is trying to be set on a copy of a slice from a DataFrame\n",
      "\n",
      "See the caveats in the documentation: https://pandas.pydata.org/pandas-docs/stable/user_guide/indexing.html#returning-a-view-versus-a-copy\n",
      "  data['density_Group'].iloc[index]=status\n"
     ]
    },
    {
     "name": "stdout",
     "output_type": "stream",
     "text": [
      "                           State density_Group\n",
      "0    Andaman and Nicobar Islands        Dense1\n",
      "4                 Andhra Pradesh        Dense2\n",
      "31             Arunachal Pradesh        Dense1\n",
      "47                         Assam        Dense2\n",
      "66                         Bihar        Dense4\n",
      "96                    Chandigarh        Dense4\n",
      "123                 Chhattisgarh        Dense1\n",
      "147                        Delhi        Dense4\n",
      "173                          Goa        Dense2\n",
      "196                      Gujarat        Dense2\n",
      "222                      Haryana        Dense2\n",
      "251             Himachal Pradesh        Dense1\n",
      "277            Jammu and Kashmir        Dense1\n",
      "303                    Jharkhand        Dense2\n",
      "325                    Karnataka        Dense2\n",
      "355                       Kerala        Dense3\n",
      "390                       Ladakh        Dense1\n",
      "402               Madhya Pradesh        Dense1\n",
      "431                  Maharashtra        Dense2\n",
      "461                    Meghalaya        Dense1\n",
      "477                      Mizoram        Dense1\n",
      "501                     Nagaland        Dense1\n",
      "524                       Odisha        Dense1\n",
      "555                   Puducherry        Dense4\n",
      "572                       Punjab        Dense2\n",
      "601                    Rajasthan        Dense1\n",
      "631                       Sikkim        Dense1\n",
      "632                   Tamil Nadu        Dense2\n",
      "660                      Tripura        Dense2\n",
      "669                Uttar Pradesh        Dense3\n",
      "697                  Uttarakhand        Dense1\n",
      "726                  West Bengal        Dense4\n"
     ]
    }
   ],
   "source": [
    "#Map each state as per its density group\n",
    "data=densityCheck(data)\n",
    "\n",
    "#We'll export this data so we can use it for Two - way ANOVA test.\n",
    "stateDensity=data[['State','density_Group']].drop_duplicates().sort_values(by='State')\n",
    "print(stateDensity)\n"
   ]
  },
  {
   "cell_type": "code",
   "execution_count": 33,
   "metadata": {},
   "outputs": [
    {
     "data": {
      "text/plain": [
       "510        2.0\n",
       "501        2.0\n",
       "502        2.0\n",
       "503        2.0\n",
       "504        2.0\n",
       "        ...   \n",
       "456    10500.0\n",
       "457    11508.0\n",
       "458    12298.0\n",
       "459    12976.0\n",
       "460    14543.0\n",
       "Name: Positive, Length: 756, dtype: float64"
      ]
     },
     "execution_count": 33,
     "metadata": {},
     "output_type": "execute_result"
    }
   ],
   "source": [
    "data['Positive'].sort_values()"
   ]
  },
  {
   "cell_type": "code",
   "execution_count": 34,
   "metadata": {},
   "outputs": [],
   "source": [
    "data.to_csv('data.csv',index=False)\n",
    "stateDensity.to_csv('stateDensity.csv',index=False)\n"
   ]
  },
  {
   "cell_type": "code",
   "execution_count": 35,
   "metadata": {},
   "outputs": [
    {
     "data": {
      "text/html": [
       "<div>\n",
       "<style scoped>\n",
       "    .dataframe tbody tr th:only-of-type {\n",
       "        vertical-align: middle;\n",
       "    }\n",
       "\n",
       "    .dataframe tbody tr th {\n",
       "        vertical-align: top;\n",
       "    }\n",
       "\n",
       "    .dataframe thead th {\n",
       "        text-align: right;\n",
       "    }\n",
       "</style>\n",
       "<table border=\"1\" class=\"dataframe\">\n",
       "  <thead>\n",
       "    <tr style=\"text-align: right;\">\n",
       "      <th></th>\n",
       "      <th>Date</th>\n",
       "      <th>State</th>\n",
       "      <th>TotalSamples</th>\n",
       "      <th>Negative</th>\n",
       "      <th>Positive</th>\n",
       "      <th>Sno</th>\n",
       "      <th>Population</th>\n",
       "      <th>Rural population</th>\n",
       "      <th>Urban population</th>\n",
       "      <th>Area</th>\n",
       "      <th>Density</th>\n",
       "      <th>Gender Ratio</th>\n",
       "      <th>density_Group</th>\n",
       "    </tr>\n",
       "  </thead>\n",
       "  <tbody>\n",
       "    <tr>\n",
       "      <th>0</th>\n",
       "      <td>17-04-2020</td>\n",
       "      <td>Andaman and Nicobar Islands</td>\n",
       "      <td>1403</td>\n",
       "      <td>1210.0</td>\n",
       "      <td>14.0</td>\n",
       "      <td>34</td>\n",
       "      <td>380581</td>\n",
       "      <td>237093</td>\n",
       "      <td>143488</td>\n",
       "      <td>8,249 km2 (3,185 sq mi)</td>\n",
       "      <td>46/km2 (120/sq mi)</td>\n",
       "      <td>876</td>\n",
       "      <td>Dense1</td>\n",
       "    </tr>\n",
       "    <tr>\n",
       "      <th>1</th>\n",
       "      <td>24-04-2020</td>\n",
       "      <td>Andaman and Nicobar Islands</td>\n",
       "      <td>2679</td>\n",
       "      <td>NaN</td>\n",
       "      <td>29.0</td>\n",
       "      <td>34</td>\n",
       "      <td>380581</td>\n",
       "      <td>237093</td>\n",
       "      <td>143488</td>\n",
       "      <td>8,249 km2 (3,185 sq mi)</td>\n",
       "      <td>46/km2 (120/sq mi)</td>\n",
       "      <td>876</td>\n",
       "      <td>Dense1</td>\n",
       "    </tr>\n",
       "    <tr>\n",
       "      <th>2</th>\n",
       "      <td>27-04-2020</td>\n",
       "      <td>Andaman and Nicobar Islands</td>\n",
       "      <td>2848</td>\n",
       "      <td>NaN</td>\n",
       "      <td>35.0</td>\n",
       "      <td>34</td>\n",
       "      <td>380581</td>\n",
       "      <td>237093</td>\n",
       "      <td>143488</td>\n",
       "      <td>8,249 km2 (3,185 sq mi)</td>\n",
       "      <td>46/km2 (120/sq mi)</td>\n",
       "      <td>876</td>\n",
       "      <td>Dense1</td>\n",
       "    </tr>\n",
       "    <tr>\n",
       "      <th>3</th>\n",
       "      <td>01-05-2020</td>\n",
       "      <td>Andaman and Nicobar Islands</td>\n",
       "      <td>3754</td>\n",
       "      <td>NaN</td>\n",
       "      <td>35.0</td>\n",
       "      <td>34</td>\n",
       "      <td>380581</td>\n",
       "      <td>237093</td>\n",
       "      <td>143488</td>\n",
       "      <td>8,249 km2 (3,185 sq mi)</td>\n",
       "      <td>46/km2 (120/sq mi)</td>\n",
       "      <td>876</td>\n",
       "      <td>Dense1</td>\n",
       "    </tr>\n",
       "    <tr>\n",
       "      <th>4</th>\n",
       "      <td>02-04-2020</td>\n",
       "      <td>Andhra Pradesh</td>\n",
       "      <td>1800</td>\n",
       "      <td>1175.0</td>\n",
       "      <td>134.0</td>\n",
       "      <td>10</td>\n",
       "      <td>49577103</td>\n",
       "      <td>34966693</td>\n",
       "      <td>14610410</td>\n",
       "      <td>162,968 km2 (62,922 sq mi)</td>\n",
       "      <td>303/km2 (780/sq mi)</td>\n",
       "      <td>993</td>\n",
       "      <td>Dense2</td>\n",
       "    </tr>\n",
       "  </tbody>\n",
       "</table>\n",
       "</div>"
      ],
      "text/plain": [
       "         Date                        State  TotalSamples  Negative  Positive   \n",
       "0  17-04-2020  Andaman and Nicobar Islands          1403    1210.0      14.0  \\\n",
       "1  24-04-2020  Andaman and Nicobar Islands          2679       NaN      29.0   \n",
       "2  27-04-2020  Andaman and Nicobar Islands          2848       NaN      35.0   \n",
       "3  01-05-2020  Andaman and Nicobar Islands          3754       NaN      35.0   \n",
       "4  02-04-2020               Andhra Pradesh          1800    1175.0     134.0   \n",
       "\n",
       "   Sno  Population  Rural population  Urban population   \n",
       "0   34      380581            237093            143488  \\\n",
       "1   34      380581            237093            143488   \n",
       "2   34      380581            237093            143488   \n",
       "3   34      380581            237093            143488   \n",
       "4   10    49577103          34966693          14610410   \n",
       "\n",
       "                         Area              Density  Gender Ratio density_Group  \n",
       "0     8,249 km2 (3,185 sq mi)   46/km2 (120/sq mi)           876        Dense1  \n",
       "1     8,249 km2 (3,185 sq mi)   46/km2 (120/sq mi)           876        Dense1  \n",
       "2     8,249 km2 (3,185 sq mi)   46/km2 (120/sq mi)           876        Dense1  \n",
       "3     8,249 km2 (3,185 sq mi)   46/km2 (120/sq mi)           876        Dense1  \n",
       "4  162,968 km2 (62,922 sq mi)  303/km2 (780/sq mi)           993        Dense2  "
      ]
     },
     "execution_count": 35,
     "metadata": {},
     "output_type": "execute_result"
    }
   ],
   "source": [
    "data.head()"
   ]
  },
  {
   "cell_type": "code",
   "execution_count": 36,
   "metadata": {},
   "outputs": [
    {
     "data": {
      "text/html": [
       "<div>\n",
       "<style scoped>\n",
       "    .dataframe tbody tr th:only-of-type {\n",
       "        vertical-align: middle;\n",
       "    }\n",
       "\n",
       "    .dataframe tbody tr th {\n",
       "        vertical-align: top;\n",
       "    }\n",
       "\n",
       "    .dataframe thead th {\n",
       "        text-align: right;\n",
       "    }\n",
       "</style>\n",
       "<table border=\"1\" class=\"dataframe\">\n",
       "  <thead>\n",
       "    <tr style=\"text-align: right;\">\n",
       "      <th></th>\n",
       "      <th>TotalSamples</th>\n",
       "      <th>Negative</th>\n",
       "      <th>Positive</th>\n",
       "      <th>Sno</th>\n",
       "      <th>Population</th>\n",
       "      <th>Rural population</th>\n",
       "      <th>Urban population</th>\n",
       "      <th>Gender Ratio</th>\n",
       "    </tr>\n",
       "  </thead>\n",
       "  <tbody>\n",
       "    <tr>\n",
       "      <th>count</th>\n",
       "      <td>756.000000</td>\n",
       "      <td>622.000000</td>\n",
       "      <td>756.000000</td>\n",
       "      <td>756.000000</td>\n",
       "      <td>7.560000e+02</td>\n",
       "      <td>7.560000e+02</td>\n",
       "      <td>7.560000e+02</td>\n",
       "      <td>756.000000</td>\n",
       "    </tr>\n",
       "    <tr>\n",
       "      <th>mean</th>\n",
       "      <td>20809.206349</td>\n",
       "      <td>21024.863344</td>\n",
       "      <td>766.484127</td>\n",
       "      <td>15.423280</td>\n",
       "      <td>4.389466e+07</td>\n",
       "      <td>3.026369e+07</td>\n",
       "      <td>1.363096e+07</td>\n",
       "      <td>945.236772</td>\n",
       "    </tr>\n",
       "    <tr>\n",
       "      <th>std</th>\n",
       "      <td>30018.538287</td>\n",
       "      <td>30070.735073</td>\n",
       "      <td>1543.937276</td>\n",
       "      <td>9.688974</td>\n",
       "      <td>4.511697e+07</td>\n",
       "      <td>3.414342e+07</td>\n",
       "      <td>1.372764e+07</td>\n",
       "      <td>54.704173</td>\n",
       "    </tr>\n",
       "    <tr>\n",
       "      <th>min</th>\n",
       "      <td>58.000000</td>\n",
       "      <td>0.000000</td>\n",
       "      <td>2.000000</td>\n",
       "      <td>1.000000</td>\n",
       "      <td>2.740000e+05</td>\n",
       "      <td>2.899100e+04</td>\n",
       "      <td>1.434880e+05</td>\n",
       "      <td>818.000000</td>\n",
       "    </tr>\n",
       "    <tr>\n",
       "      <th>25%</th>\n",
       "      <td>2367.250000</td>\n",
       "      <td>2482.250000</td>\n",
       "      <td>35.000000</td>\n",
       "      <td>7.000000</td>\n",
       "      <td>6.864602e+06</td>\n",
       "      <td>2.627208e+06</td>\n",
       "      <td>1.026459e+06</td>\n",
       "      <td>918.000000</td>\n",
       "    </tr>\n",
       "    <tr>\n",
       "      <th>50%</th>\n",
       "      <td>8538.000000</td>\n",
       "      <td>8303.000000</td>\n",
       "      <td>214.000000</td>\n",
       "      <td>15.000000</td>\n",
       "      <td>3.120558e+07</td>\n",
       "      <td>1.960796e+07</td>\n",
       "      <td>9.620624e+06</td>\n",
       "      <td>948.000000</td>\n",
       "    </tr>\n",
       "    <tr>\n",
       "      <th>75%</th>\n",
       "      <td>24989.750000</td>\n",
       "      <td>24500.250000</td>\n",
       "      <td>727.250000</td>\n",
       "      <td>24.000000</td>\n",
       "      <td>6.854844e+07</td>\n",
       "      <td>3.746934e+07</td>\n",
       "      <td>2.006940e+07</td>\n",
       "      <td>976.000000</td>\n",
       "    </tr>\n",
       "    <tr>\n",
       "      <th>max</th>\n",
       "      <td>175323.000000</td>\n",
       "      <td>162349.000000</td>\n",
       "      <td>14543.000000</td>\n",
       "      <td>35.000000</td>\n",
       "      <td>1.998123e+08</td>\n",
       "      <td>1.553173e+08</td>\n",
       "      <td>5.081826e+07</td>\n",
       "      <td>1084.000000</td>\n",
       "    </tr>\n",
       "  </tbody>\n",
       "</table>\n",
       "</div>"
      ],
      "text/plain": [
       "        TotalSamples       Negative      Positive         Sno    Population   \n",
       "count     756.000000     622.000000    756.000000  756.000000  7.560000e+02  \\\n",
       "mean    20809.206349   21024.863344    766.484127   15.423280  4.389466e+07   \n",
       "std     30018.538287   30070.735073   1543.937276    9.688974  4.511697e+07   \n",
       "min        58.000000       0.000000      2.000000    1.000000  2.740000e+05   \n",
       "25%      2367.250000    2482.250000     35.000000    7.000000  6.864602e+06   \n",
       "50%      8538.000000    8303.000000    214.000000   15.000000  3.120558e+07   \n",
       "75%     24989.750000   24500.250000    727.250000   24.000000  6.854844e+07   \n",
       "max    175323.000000  162349.000000  14543.000000   35.000000  1.998123e+08   \n",
       "\n",
       "       Rural population  Urban population  Gender Ratio  \n",
       "count      7.560000e+02      7.560000e+02    756.000000  \n",
       "mean       3.026369e+07      1.363096e+07    945.236772  \n",
       "std        3.414342e+07      1.372764e+07     54.704173  \n",
       "min        2.899100e+04      1.434880e+05    818.000000  \n",
       "25%        2.627208e+06      1.026459e+06    918.000000  \n",
       "50%        1.960796e+07      9.620624e+06    948.000000  \n",
       "75%        3.746934e+07      2.006940e+07    976.000000  \n",
       "max        1.553173e+08      5.081826e+07   1084.000000  "
      ]
     },
     "execution_count": 36,
     "metadata": {},
     "output_type": "execute_result"
    }
   ],
   "source": [
    "data.describe()"
   ]
  },
  {
   "cell_type": "code",
   "execution_count": 38,
   "metadata": {},
   "outputs": [
    {
     "name": "stdout",
     "output_type": "stream",
     "text": [
      "     Dense1  Dense2  Dense3  Dense4\n",
      "0      14.0     NaN     NaN     NaN\n",
      "1      29.0     NaN     NaN     NaN\n",
      "2      35.0     NaN     NaN     NaN\n",
      "3      35.0     NaN     NaN     NaN\n",
      "4       NaN   134.0     NaN     NaN\n",
      "..      ...     ...     ...     ...\n",
      "751     NaN     NaN     NaN   760.0\n",
      "752     NaN     NaN     NaN   409.0\n",
      "753     NaN     NaN     NaN   797.0\n",
      "754     NaN     NaN     NaN   924.0\n",
      "755     NaN     NaN     NaN  1261.0\n",
      "\n",
      "[756 rows x 4 columns]\n"
     ]
    }
   ],
   "source": [
    "#Rearrange dataframe\n",
    "\n",
    "df=pd.DataFrame({'Dense1':data[data['density_Group']=='Dense1']['Positive'],\n",
    "                 'Dense2':data[data['density_Group']=='Dense2']['Positive'],\n",
    "                 'Dense3':data[data['density_Group']=='Dense3']['Positive'],\n",
    "                 'Dense4':data[data['density_Group']=='Dense4']['Positive']})\n",
    "\n",
    "print(df)\n",
    "\n"
   ]
  },
  {
   "cell_type": "code",
   "execution_count": 39,
   "metadata": {},
   "outputs": [
    {
     "data": {
      "text/plain": [
       "Date                  0\n",
       "State                 0\n",
       "TotalSamples          0\n",
       "Negative            134\n",
       "Positive              0\n",
       "Sno                   0\n",
       "Population            0\n",
       "Rural population      0\n",
       "Urban population      0\n",
       "Area                  0\n",
       "Density               0\n",
       "Gender Ratio          0\n",
       "density_Group         0\n",
       "dtype: int64"
      ]
     },
     "execution_count": 39,
     "metadata": {},
     "output_type": "execute_result"
    }
   ],
   "source": [
    "data.isna().sum()"
   ]
  },
  {
   "cell_type": "code",
   "execution_count": 41,
   "metadata": {},
   "outputs": [
    {
     "name": "stdout",
     "output_type": "stream",
     "text": [
      "           Date                        State  TotalSamples  Negative   \n",
      "0    17-04-2020  Andaman and Nicobar Islands          1403    1210.0  \\\n",
      "1    24-04-2020  Andaman and Nicobar Islands          2679       NaN   \n",
      "2    27-04-2020  Andaman and Nicobar Islands          2848       NaN   \n",
      "3    01-05-2020  Andaman and Nicobar Islands          3754       NaN   \n",
      "4    02-04-2020               Andhra Pradesh          1800    1175.0   \n",
      "..          ...                          ...           ...       ...   \n",
      "751  30-04-2020                  West Bengal         16525       NaN   \n",
      "752  01-05-2020                  West Bengal         18566       NaN   \n",
      "753  02-05-2020                  West Bengal         20976       NaN   \n",
      "754  03-05-2020                  West Bengal         22915       NaN   \n",
      "755  04-05-2020                  West Bengal         25116       NaN   \n",
      "\n",
      "     Positive  Sno  Population  Rural population  Urban population   \n",
      "0        14.0   34      380581            237093            143488  \\\n",
      "1        29.0   34      380581            237093            143488   \n",
      "2        35.0   34      380581            237093            143488   \n",
      "3        35.0   34      380581            237093            143488   \n",
      "4       134.0   10    49577103          34966693          14610410   \n",
      "..        ...  ...         ...               ...               ...   \n",
      "751     760.0    4    91276115          62183113          29093002   \n",
      "752     409.0    4    91276115          62183113          29093002   \n",
      "753     797.0    4    91276115          62183113          29093002   \n",
      "754     924.0    4    91276115          62183113          29093002   \n",
      "755    1261.0    4    91276115          62183113          29093002   \n",
      "\n",
      "                           Area                  Density  Gender Ratio   \n",
      "0       8,249 km2 (3,185 sq mi)       46/km2 (120/sq mi)           876  \\\n",
      "1       8,249 km2 (3,185 sq mi)       46/km2 (120/sq mi)           876   \n",
      "2       8,249 km2 (3,185 sq mi)       46/km2 (120/sq mi)           876   \n",
      "3       8,249 km2 (3,185 sq mi)       46/km2 (120/sq mi)           876   \n",
      "4    162,968 km2 (62,922 sq mi)      303/km2 (780/sq mi)           993   \n",
      "..                          ...                      ...           ...   \n",
      "751   88,752 km2 (34,267 sq mi)  1,029/km2 (2,670/sq mi)           953   \n",
      "752   88,752 km2 (34,267 sq mi)  1,029/km2 (2,670/sq mi)           953   \n",
      "753   88,752 km2 (34,267 sq mi)  1,029/km2 (2,670/sq mi)           953   \n",
      "754   88,752 km2 (34,267 sq mi)  1,029/km2 (2,670/sq mi)           953   \n",
      "755   88,752 km2 (34,267 sq mi)  1,029/km2 (2,670/sq mi)           953   \n",
      "\n",
      "    density_Group  \n",
      "0          Dense1  \n",
      "1          Dense1  \n",
      "2          Dense1  \n",
      "3          Dense1  \n",
      "4          Dense2  \n",
      "..            ...  \n",
      "751        Dense4  \n",
      "752        Dense4  \n",
      "753        Dense4  \n",
      "754        Dense4  \n",
      "755        Dense4  \n",
      "\n",
      "[756 rows x 13 columns]\n"
     ]
    }
   ],
   "source": [
    "data[data['Positive'].isna()]\n",
    "print(data)"
   ]
  },
  {
   "cell_type": "code",
   "execution_count": 42,
   "metadata": {},
   "outputs": [
    {
     "data": {
      "text/plain": [
       "Dense1    float64\n",
       "Dense2    float64\n",
       "Dense3    float64\n",
       "Dense4    float64\n",
       "dtype: object"
      ]
     },
     "execution_count": 42,
     "metadata": {},
     "output_type": "execute_result"
    }
   ],
   "source": [
    "df.dtypes"
   ]
  },
  {
   "cell_type": "code",
   "execution_count": 30,
   "metadata": {},
   "outputs": [],
   "source": [
    "####################### Approach 1.##########3"
   ]
  },
  {
   "cell_type": "code",
   "execution_count": 43,
   "metadata": {},
   "outputs": [
    {
     "name": "stdout",
     "output_type": "stream",
     "text": [
      "   Dense1  Dense2  Dense3  Dense4\n",
      "0    14.0    44.0    39.0     4.0\n",
      "1  2668.0   616.0    14.0     2.0\n",
      "2    19.0     3.0    58.0    50.0\n",
      "3   302.0    14.0    45.0     3.0\n",
      "4     4.0  1890.0  2562.0    54.0\n",
      "5    38.0    48.0   531.0    59.0\n",
      "6  1284.0     3.0    40.0    56.0\n",
      "7     3.0   798.0     3.0     2.0\n",
      "8   429.0    49.0    41.0   849.0\n",
      "9    37.0    85.0  1737.0     2.0\n"
     ]
    }
   ],
   "source": [
    "np.random.seed(1234)\n",
    "dataNew=pd.DataFrame({'Dense1':random.sample(list(data['Positive'][data['density_Group']=='Dense1']), 10),\n",
    "                      'Dense2':random.sample(list(data['Positive'][data['density_Group']=='Dense1']), 10),\n",
    "                      'Dense3':random.sample(list(data['Positive'][data['density_Group']=='Dense1']), 10),\n",
    "                      'Dense4':random.sample(list(data['Positive'][data['density_Group']=='Dense1']), 10)})\n",
    "print(dataNew)"
   ]
  },
  {
   "cell_type": "code",
   "execution_count": 32,
   "metadata": {},
   "outputs": [],
   "source": [
    "# np.random.seed(1234)\n",
    "# dataNew=pd.DataFrame({'Dense1':data['Positive'][data['density_Group']=='Dense1'],\n",
    "#                       'Dense2':data['Positive'][data['density_Group']=='Dense1'],\n",
    "#                       'Dense3':data['Positive'][data['density_Group']=='Dense1'],\n",
    "#                       'Dense4':data['Positive'][data['density_Group']=='Dense1']})"
   ]
  },
  {
   "cell_type": "code",
   "execution_count": null,
   "metadata": {},
   "outputs": [],
   "source": []
  },
  {
   "cell_type": "code",
   "execution_count": 44,
   "metadata": {},
   "outputs": [
    {
     "data": {
      "text/html": [
       "<div>\n",
       "<style scoped>\n",
       "    .dataframe tbody tr th:only-of-type {\n",
       "        vertical-align: middle;\n",
       "    }\n",
       "\n",
       "    .dataframe tbody tr th {\n",
       "        vertical-align: top;\n",
       "    }\n",
       "\n",
       "    .dataframe thead th {\n",
       "        text-align: right;\n",
       "    }\n",
       "</style>\n",
       "<table border=\"1\" class=\"dataframe\">\n",
       "  <thead>\n",
       "    <tr style=\"text-align: right;\">\n",
       "      <th></th>\n",
       "      <th>Dense1</th>\n",
       "      <th>Dense2</th>\n",
       "      <th>Dense3</th>\n",
       "      <th>Dense4</th>\n",
       "    </tr>\n",
       "  </thead>\n",
       "  <tbody>\n",
       "    <tr>\n",
       "      <th>0</th>\n",
       "      <td>14.0</td>\n",
       "      <td>44.0</td>\n",
       "      <td>39.0</td>\n",
       "      <td>4.0</td>\n",
       "    </tr>\n",
       "    <tr>\n",
       "      <th>1</th>\n",
       "      <td>2668.0</td>\n",
       "      <td>616.0</td>\n",
       "      <td>14.0</td>\n",
       "      <td>2.0</td>\n",
       "    </tr>\n",
       "    <tr>\n",
       "      <th>2</th>\n",
       "      <td>19.0</td>\n",
       "      <td>3.0</td>\n",
       "      <td>58.0</td>\n",
       "      <td>50.0</td>\n",
       "    </tr>\n",
       "    <tr>\n",
       "      <th>3</th>\n",
       "      <td>302.0</td>\n",
       "      <td>14.0</td>\n",
       "      <td>45.0</td>\n",
       "      <td>3.0</td>\n",
       "    </tr>\n",
       "    <tr>\n",
       "      <th>4</th>\n",
       "      <td>4.0</td>\n",
       "      <td>1890.0</td>\n",
       "      <td>2562.0</td>\n",
       "      <td>54.0</td>\n",
       "    </tr>\n",
       "  </tbody>\n",
       "</table>\n",
       "</div>"
      ],
      "text/plain": [
       "   Dense1  Dense2  Dense3  Dense4\n",
       "0    14.0    44.0    39.0     4.0\n",
       "1  2668.0   616.0    14.0     2.0\n",
       "2    19.0     3.0    58.0    50.0\n",
       "3   302.0    14.0    45.0     3.0\n",
       "4     4.0  1890.0  2562.0    54.0"
      ]
     },
     "execution_count": 44,
     "metadata": {},
     "output_type": "execute_result"
    }
   ],
   "source": [
    "dataNew.head()"
   ]
  },
  {
   "cell_type": "code",
   "execution_count": 45,
   "metadata": {},
   "outputs": [
    {
     "data": {
      "text/html": [
       "<div>\n",
       "<style scoped>\n",
       "    .dataframe tbody tr th:only-of-type {\n",
       "        vertical-align: middle;\n",
       "    }\n",
       "\n",
       "    .dataframe tbody tr th {\n",
       "        vertical-align: top;\n",
       "    }\n",
       "\n",
       "    .dataframe thead th {\n",
       "        text-align: right;\n",
       "    }\n",
       "</style>\n",
       "<table border=\"1\" class=\"dataframe\">\n",
       "  <thead>\n",
       "    <tr style=\"text-align: right;\">\n",
       "      <th></th>\n",
       "      <th>Dense1</th>\n",
       "      <th>Dense2</th>\n",
       "      <th>Dense3</th>\n",
       "      <th>Dense4</th>\n",
       "    </tr>\n",
       "  </thead>\n",
       "  <tbody>\n",
       "    <tr>\n",
       "      <th>count</th>\n",
       "      <td>10.000000</td>\n",
       "      <td>10.000000</td>\n",
       "      <td>10.000000</td>\n",
       "      <td>10.000000</td>\n",
       "    </tr>\n",
       "    <tr>\n",
       "      <th>mean</th>\n",
       "      <td>479.800000</td>\n",
       "      <td>355.000000</td>\n",
       "      <td>507.000000</td>\n",
       "      <td>108.100000</td>\n",
       "    </tr>\n",
       "    <tr>\n",
       "      <th>std</th>\n",
       "      <td>865.604452</td>\n",
       "      <td>609.388582</td>\n",
       "      <td>900.794711</td>\n",
       "      <td>261.622056</td>\n",
       "    </tr>\n",
       "    <tr>\n",
       "      <th>min</th>\n",
       "      <td>3.000000</td>\n",
       "      <td>3.000000</td>\n",
       "      <td>3.000000</td>\n",
       "      <td>2.000000</td>\n",
       "    </tr>\n",
       "    <tr>\n",
       "      <th>25%</th>\n",
       "      <td>15.250000</td>\n",
       "      <td>21.500000</td>\n",
       "      <td>39.250000</td>\n",
       "      <td>2.250000</td>\n",
       "    </tr>\n",
       "    <tr>\n",
       "      <th>50%</th>\n",
       "      <td>37.500000</td>\n",
       "      <td>48.500000</td>\n",
       "      <td>43.000000</td>\n",
       "      <td>27.000000</td>\n",
       "    </tr>\n",
       "    <tr>\n",
       "      <th>75%</th>\n",
       "      <td>397.250000</td>\n",
       "      <td>483.250000</td>\n",
       "      <td>412.750000</td>\n",
       "      <td>55.500000</td>\n",
       "    </tr>\n",
       "    <tr>\n",
       "      <th>max</th>\n",
       "      <td>2668.000000</td>\n",
       "      <td>1890.000000</td>\n",
       "      <td>2562.000000</td>\n",
       "      <td>849.000000</td>\n",
       "    </tr>\n",
       "  </tbody>\n",
       "</table>\n",
       "</div>"
      ],
      "text/plain": [
       "            Dense1       Dense2       Dense3      Dense4\n",
       "count    10.000000    10.000000    10.000000   10.000000\n",
       "mean    479.800000   355.000000   507.000000  108.100000\n",
       "std     865.604452   609.388582   900.794711  261.622056\n",
       "min       3.000000     3.000000     3.000000    2.000000\n",
       "25%      15.250000    21.500000    39.250000    2.250000\n",
       "50%      37.500000    48.500000    43.000000   27.000000\n",
       "75%     397.250000   483.250000   412.750000   55.500000\n",
       "max    2668.000000  1890.000000  2562.000000  849.000000"
      ]
     },
     "execution_count": 45,
     "metadata": {},
     "output_type": "execute_result"
    }
   ],
   "source": [
    "dataNew.describe()"
   ]
  },
  {
   "cell_type": "code",
   "execution_count": 46,
   "metadata": {},
   "outputs": [
    {
     "data": {
      "text/plain": [
       "7     3.0\n",
       "4     4.0\n",
       "0    14.0\n",
       "2    19.0\n",
       "9    37.0\n",
       "Name: Dense1, dtype: float64"
      ]
     },
     "execution_count": 46,
     "metadata": {},
     "output_type": "execute_result"
    }
   ],
   "source": [
    "dataNew['Dense1'].sort_values().head()"
   ]
  },
  {
   "cell_type": "code",
   "execution_count": 47,
   "metadata": {},
   "outputs": [
    {
     "data": {
      "text/html": [
       "<div>\n",
       "<style scoped>\n",
       "    .dataframe tbody tr th:only-of-type {\n",
       "        vertical-align: middle;\n",
       "    }\n",
       "\n",
       "    .dataframe tbody tr th {\n",
       "        vertical-align: top;\n",
       "    }\n",
       "\n",
       "    .dataframe thead th {\n",
       "        text-align: right;\n",
       "    }\n",
       "</style>\n",
       "<table border=\"1\" class=\"dataframe\">\n",
       "  <thead>\n",
       "    <tr style=\"text-align: right;\">\n",
       "      <th></th>\n",
       "      <th>Dense1</th>\n",
       "      <th>Dense2</th>\n",
       "      <th>Dense3</th>\n",
       "      <th>Dense4</th>\n",
       "    </tr>\n",
       "  </thead>\n",
       "  <tbody>\n",
       "    <tr>\n",
       "      <th>count</th>\n",
       "      <td>10.000000</td>\n",
       "      <td>10.000000</td>\n",
       "      <td>10.000000</td>\n",
       "      <td>10.000000</td>\n",
       "    </tr>\n",
       "    <tr>\n",
       "      <th>mean</th>\n",
       "      <td>479.800000</td>\n",
       "      <td>355.000000</td>\n",
       "      <td>507.000000</td>\n",
       "      <td>108.100000</td>\n",
       "    </tr>\n",
       "    <tr>\n",
       "      <th>std</th>\n",
       "      <td>865.604452</td>\n",
       "      <td>609.388582</td>\n",
       "      <td>900.794711</td>\n",
       "      <td>261.622056</td>\n",
       "    </tr>\n",
       "    <tr>\n",
       "      <th>min</th>\n",
       "      <td>3.000000</td>\n",
       "      <td>3.000000</td>\n",
       "      <td>3.000000</td>\n",
       "      <td>2.000000</td>\n",
       "    </tr>\n",
       "    <tr>\n",
       "      <th>25%</th>\n",
       "      <td>15.250000</td>\n",
       "      <td>21.500000</td>\n",
       "      <td>39.250000</td>\n",
       "      <td>2.250000</td>\n",
       "    </tr>\n",
       "    <tr>\n",
       "      <th>50%</th>\n",
       "      <td>37.500000</td>\n",
       "      <td>48.500000</td>\n",
       "      <td>43.000000</td>\n",
       "      <td>27.000000</td>\n",
       "    </tr>\n",
       "    <tr>\n",
       "      <th>75%</th>\n",
       "      <td>397.250000</td>\n",
       "      <td>483.250000</td>\n",
       "      <td>412.750000</td>\n",
       "      <td>55.500000</td>\n",
       "    </tr>\n",
       "    <tr>\n",
       "      <th>max</th>\n",
       "      <td>2668.000000</td>\n",
       "      <td>1890.000000</td>\n",
       "      <td>2562.000000</td>\n",
       "      <td>849.000000</td>\n",
       "    </tr>\n",
       "  </tbody>\n",
       "</table>\n",
       "</div>"
      ],
      "text/plain": [
       "            Dense1       Dense2       Dense3      Dense4\n",
       "count    10.000000    10.000000    10.000000   10.000000\n",
       "mean    479.800000   355.000000   507.000000  108.100000\n",
       "std     865.604452   609.388582   900.794711  261.622056\n",
       "min       3.000000     3.000000     3.000000    2.000000\n",
       "25%      15.250000    21.500000    39.250000    2.250000\n",
       "50%      37.500000    48.500000    43.000000   27.000000\n",
       "75%     397.250000   483.250000   412.750000   55.500000\n",
       "max    2668.000000  1890.000000  2562.000000  849.000000"
      ]
     },
     "execution_count": 47,
     "metadata": {},
     "output_type": "execute_result"
    }
   ],
   "source": [
    "dataNew.describe()"
   ]
  },
  {
   "cell_type": "code",
   "execution_count": 48,
   "metadata": {},
   "outputs": [
    {
     "data": {
      "text/plain": [
       "7     3.0\n",
       "4     4.0\n",
       "0    14.0\n",
       "2    19.0\n",
       "9    37.0\n",
       "Name: Dense1, dtype: float64"
      ]
     },
     "execution_count": 48,
     "metadata": {},
     "output_type": "execute_result"
    }
   ],
   "source": [
    "dataNew['Dense1'].sort_values().head()"
   ]
  },
  {
   "cell_type": "code",
   "execution_count": 38,
   "metadata": {},
   "outputs": [
    {
     "data": {
      "text/plain": [
       "<matplotlib.axes._subplots.AxesSubplot at 0x220bedc7448>"
      ]
     },
     "execution_count": 38,
     "metadata": {},
     "output_type": "execute_result"
    },
    {
     "data": {
      "image/png": "[encoded data removed]",
      "text/plain": [
       "<Figure size 720x720 with 4 Axes>"
      ]
     },
     "metadata": {
      "needs_background": "light"
     },
     "output_type": "display_data"
    }
   ],
   "source": [
    "#Plot number of Corona cases across different density groups to check their distribution.\n",
    "fig = plt.figure(figsize=(10,10))\n",
    "title = fig.suptitle(\"Corona cases across different density groups\", fontsize=14)\n",
    "fig.subplots_adjust(top=0.85, wspace=0.3)\n",
    "\n",
    "ax1 = fig.add_subplot(2,2,1)\n",
    "ax1.set_title(\"density Group-Dense1 & Corona Cases\")\n",
    "ax1.set_xlabel(\"density Group -Dense1\")\n",
    "ax1.set_ylabel(\"Corona Cases\") \n",
    "sns.kdeplot(dataNew['Dense1'], ax=ax1, shade=True,bw=4, color='g')\n",
    "\n",
    "ax2 = fig.add_subplot(2,2,2)\n",
    "ax2.set_title(\"density Group -Dense2 & Corona Cases\")\n",
    "ax2.set_xlabel(\"density Group -Dense2\")\n",
    "ax2.set_ylabel(\"Corona Cases\") \n",
    "sns.kdeplot(dataNew['Dense2'], ax=ax2, shade=True,bw=4, color='y')\n",
    "\n",
    "ax2 = fig.add_subplot(2,2,3)\n",
    "ax2.set_title(\"density Group -Dense2 & Corona Cases\")\n",
    "ax2.set_xlabel(\"density Group -Dense3\")\n",
    "ax2.set_ylabel(\"Corona Cases\") \n",
    "sns.kdeplot(dataNew['Dense3'], ax=ax2, shade=True,bw=4, color='r')\n",
    "\n",
    "ax2 = fig.add_subplot(2,2,4)\n",
    "ax2.set_title(\"density Group -Dense4 & Corona Cases\")\n",
    "ax2.set_xlabel(\"density Group -Dense4\")\n",
    "ax2.set_ylabel(\"Corona Cases\") \n",
    "sns.kdeplot(dataNew['Dense4'], ax=ax2, shade=True,bw=4, color='b')"
   ]
  },
  {
   "cell_type": "code",
   "execution_count": 49,
   "metadata": {},
   "outputs": [],
   "source": [
    "## Apply BoxCox Transformation to bring the data to close to Gaussian Distribution \n",
    "dataNew['Dense1'],fitted_lambda = stats.boxcox(dataNew['Dense1'])\n",
    "dataNew['Dense2'],fitted_lambda = stats.boxcox(dataNew['Dense2'])\n",
    "dataNew['Dense3'],fitted_lambda = stats.boxcox(dataNew['Dense3'])\n",
    "dataNew['Dense4'],fitted_lambda = stats.boxcox(dataNew['Dense4'])"
   ]
  },
  {
   "cell_type": "code",
   "execution_count": 40,
   "metadata": {},
   "outputs": [],
   "source": [
    "##Apply log transformation to treat outliers and to bring to normal distribution\n",
    "# dataNew = np.log(dataNew + 1)"
   ]
  },
  {
   "cell_type": "code",
   "execution_count": 50,
   "metadata": {},
   "outputs": [
    {
     "data": {
      "text/html": [
       "<div>\n",
       "<style scoped>\n",
       "    .dataframe tbody tr th:only-of-type {\n",
       "        vertical-align: middle;\n",
       "    }\n",
       "\n",
       "    .dataframe tbody tr th {\n",
       "        vertical-align: top;\n",
       "    }\n",
       "\n",
       "    .dataframe thead th {\n",
       "        text-align: right;\n",
       "    }\n",
       "</style>\n",
       "<table border=\"1\" class=\"dataframe\">\n",
       "  <thead>\n",
       "    <tr style=\"text-align: right;\">\n",
       "      <th></th>\n",
       "      <th>Dense1</th>\n",
       "      <th>Dense2</th>\n",
       "      <th>Dense3</th>\n",
       "      <th>Dense4</th>\n",
       "    </tr>\n",
       "  </thead>\n",
       "  <tbody>\n",
       "    <tr>\n",
       "      <th>count</th>\n",
       "      <td>10.000000</td>\n",
       "      <td>10.000000</td>\n",
       "      <td>10.000000</td>\n",
       "      <td>10.000000</td>\n",
       "    </tr>\n",
       "    <tr>\n",
       "      <th>mean</th>\n",
       "      <td>3.534166</td>\n",
       "      <td>3.933384</td>\n",
       "      <td>3.530316</td>\n",
       "      <td>1.966137</td>\n",
       "    </tr>\n",
       "    <tr>\n",
       "      <th>std</th>\n",
       "      <td>1.758183</td>\n",
       "      <td>2.036816</td>\n",
       "      <td>1.405578</td>\n",
       "      <td>1.245274</td>\n",
       "    </tr>\n",
       "    <tr>\n",
       "      <th>min</th>\n",
       "      <td>1.058439</td>\n",
       "      <td>1.086272</td>\n",
       "      <td>1.046121</td>\n",
       "      <td>0.652797</td>\n",
       "    </tr>\n",
       "    <tr>\n",
       "      <th>25%</th>\n",
       "      <td>2.478163</td>\n",
       "      <td>2.836553</td>\n",
       "      <td>3.126099</td>\n",
       "      <td>0.739487</td>\n",
       "    </tr>\n",
       "    <tr>\n",
       "      <th>50%</th>\n",
       "      <td>3.210827</td>\n",
       "      <td>3.730362</td>\n",
       "      <td>3.190649</td>\n",
       "      <td>2.032306</td>\n",
       "    </tr>\n",
       "    <tr>\n",
       "      <th>75%</th>\n",
       "      <td>4.905425</td>\n",
       "      <td>5.573627</td>\n",
       "      <td>4.447578</td>\n",
       "      <td>2.885632</td>\n",
       "    </tr>\n",
       "    <tr>\n",
       "      <th>max</th>\n",
       "      <td>6.100311</td>\n",
       "      <td>6.987236</td>\n",
       "      <td>5.631101</td>\n",
       "      <td>3.960724</td>\n",
       "    </tr>\n",
       "  </tbody>\n",
       "</table>\n",
       "</div>"
      ],
      "text/plain": [
       "          Dense1     Dense2     Dense3     Dense4\n",
       "count  10.000000  10.000000  10.000000  10.000000\n",
       "mean    3.534166   3.933384   3.530316   1.966137\n",
       "std     1.758183   2.036816   1.405578   1.245274\n",
       "min     1.058439   1.086272   1.046121   0.652797\n",
       "25%     2.478163   2.836553   3.126099   0.739487\n",
       "50%     3.210827   3.730362   3.190649   2.032306\n",
       "75%     4.905425   5.573627   4.447578   2.885632\n",
       "max     6.100311   6.987236   5.631101   3.960724"
      ]
     },
     "execution_count": 50,
     "metadata": {},
     "output_type": "execute_result"
    }
   ],
   "source": [
    "dataNew.describe()"
   ]
  },
  {
   "cell_type": "code",
   "execution_count": 42,
   "metadata": {},
   "outputs": [
    {
     "data": {
      "text/html": [
       "<div>\n",
       "<style scoped>\n",
       "    .dataframe tbody tr th:only-of-type {\n",
       "        vertical-align: middle;\n",
       "    }\n",
       "\n",
       "    .dataframe tbody tr th {\n",
       "        vertical-align: top;\n",
       "    }\n",
       "\n",
       "    .dataframe thead th {\n",
       "        text-align: right;\n",
       "    }\n",
       "</style>\n",
       "<table border=\"1\" class=\"dataframe\">\n",
       "  <thead>\n",
       "    <tr style=\"text-align: right;\">\n",
       "      <th></th>\n",
       "      <th>Dense1</th>\n",
       "      <th>Dense2</th>\n",
       "      <th>Dense3</th>\n",
       "      <th>Dense4</th>\n",
       "    </tr>\n",
       "  </thead>\n",
       "  <tbody>\n",
       "    <tr>\n",
       "      <th>0</th>\n",
       "      <td>5.089940</td>\n",
       "      <td>10.470520</td>\n",
       "      <td>6.816592</td>\n",
       "      <td>5.316842</td>\n",
       "    </tr>\n",
       "    <tr>\n",
       "      <th>1</th>\n",
       "      <td>3.507428</td>\n",
       "      <td>5.834316</td>\n",
       "      <td>0.702392</td>\n",
       "      <td>5.260163</td>\n",
       "    </tr>\n",
       "    <tr>\n",
       "      <th>2</th>\n",
       "      <td>2.320648</td>\n",
       "      <td>7.220173</td>\n",
       "      <td>1.121958</td>\n",
       "      <td>0.744038</td>\n",
       "    </tr>\n",
       "    <tr>\n",
       "      <th>3</th>\n",
       "      <td>3.405425</td>\n",
       "      <td>8.909784</td>\n",
       "      <td>3.871437</td>\n",
       "      <td>1.230105</td>\n",
       "    </tr>\n",
       "    <tr>\n",
       "      <th>4</th>\n",
       "      <td>2.104378</td>\n",
       "      <td>4.563609</td>\n",
       "      <td>8.422814</td>\n",
       "      <td>6.292992</td>\n",
       "    </tr>\n",
       "  </tbody>\n",
       "</table>\n",
       "</div>"
      ],
      "text/plain": [
       "     Dense1     Dense2    Dense3    Dense4\n",
       "0  5.089940  10.470520  6.816592  5.316842\n",
       "1  3.507428   5.834316  0.702392  5.260163\n",
       "2  2.320648   7.220173  1.121958  0.744038\n",
       "3  3.405425   8.909784  3.871437  1.230105\n",
       "4  2.104378   4.563609  8.422814  6.292992"
      ]
     },
     "execution_count": 42,
     "metadata": {},
     "output_type": "execute_result"
    }
   ],
   "source": [
    "dataNew.head()"
   ]
  },
  {
   "cell_type": "code",
   "execution_count": 51,
   "metadata": {},
   "outputs": [
    {
     "data": {
      "text/plain": [
       "count    10.000000\n",
       "mean      3.534166\n",
       "std       1.758183\n",
       "min       1.058439\n",
       "25%       2.478163\n",
       "50%       3.210827\n",
       "75%       4.905425\n",
       "max       6.100311\n",
       "Name: Dense1, dtype: float64"
      ]
     },
     "execution_count": 51,
     "metadata": {},
     "output_type": "execute_result"
    }
   ],
   "source": [
    "dataNew['Dense1'].describe()"
   ]
  },
  {
   "cell_type": "code",
   "execution_count": 52,
   "metadata": {},
   "outputs": [
    {
     "name": "stderr",
     "output_type": "stream",
     "text": [
      "C:\\Users\\Zahid\\AppData\\Local\\Temp\\ipykernel_4868\\3688102872.py:10: UserWarning: \n",
      "\n",
      "The `bw` parameter is deprecated in favor of `bw_method` and `bw_adjust`.\n",
      "Setting `bw_method=4`, but please see the docs for the new parameters\n",
      "and update your code. This will become an error in seaborn v0.13.0.\n",
      "\n",
      "  sns.kdeplot(dataNew['Dense1'], ax=ax1, shade=True,bw=4, color='g')\n",
      "C:\\Users\\Zahid\\AppData\\Local\\Temp\\ipykernel_4868\\3688102872.py:10: FutureWarning: \n",
      "\n",
      "`shade` is now deprecated in favor of `fill`; setting `fill=True`.\n",
      "This will become an error in seaborn v0.14.0; please update your code.\n",
      "\n",
      "  sns.kdeplot(dataNew['Dense1'], ax=ax1, shade=True,bw=4, color='g')\n",
      "C:\\Users\\Zahid\\AppData\\Local\\Temp\\ipykernel_4868\\3688102872.py:16: UserWarning: \n",
      "\n",
      "The `bw` parameter is deprecated in favor of `bw_method` and `bw_adjust`.\n",
      "Setting `bw_method=4`, but please see the docs for the new parameters\n",
      "and update your code. This will become an error in seaborn v0.13.0.\n",
      "\n",
      "  sns.kdeplot(dataNew['Dense2'], ax=ax2, shade=True,bw=4, color='y')\n",
      "C:\\Users\\Zahid\\AppData\\Local\\Temp\\ipykernel_4868\\3688102872.py:16: FutureWarning: \n",
      "\n",
      "`shade` is now deprecated in favor of `fill`; setting `fill=True`.\n",
      "This will become an error in seaborn v0.14.0; please update your code.\n",
      "\n",
      "  sns.kdeplot(dataNew['Dense2'], ax=ax2, shade=True,bw=4, color='y')\n",
      "C:\\Users\\Zahid\\AppData\\Local\\Temp\\ipykernel_4868\\3688102872.py:22: UserWarning: \n",
      "\n",
      "The `bw` parameter is deprecated in favor of `bw_method` and `bw_adjust`.\n",
      "Setting `bw_method=4`, but please see the docs for the new parameters\n",
      "and update your code. This will become an error in seaborn v0.13.0.\n",
      "\n",
      "  sns.kdeplot(dataNew['Dense3'], ax=ax2, shade=True,bw=4, color='r')\n",
      "C:\\Users\\Zahid\\AppData\\Local\\Temp\\ipykernel_4868\\3688102872.py:22: FutureWarning: \n",
      "\n",
      "`shade` is now deprecated in favor of `fill`; setting `fill=True`.\n",
      "This will become an error in seaborn v0.14.0; please update your code.\n",
      "\n",
      "  sns.kdeplot(dataNew['Dense3'], ax=ax2, shade=True,bw=4, color='r')\n",
      "C:\\Users\\Zahid\\AppData\\Local\\Temp\\ipykernel_4868\\3688102872.py:28: UserWarning: \n",
      "\n",
      "The `bw` parameter is deprecated in favor of `bw_method` and `bw_adjust`.\n",
      "Setting `bw_method=4`, but please see the docs for the new parameters\n",
      "and update your code. This will become an error in seaborn v0.13.0.\n",
      "\n",
      "  sns.kdeplot(dataNew['Dense4'], ax=ax2, shade=True,bw=4, color='b')\n",
      "C:\\Users\\Zahid\\AppData\\Local\\Temp\\ipykernel_4868\\3688102872.py:28: FutureWarning: \n",
      "\n",
      "`shade` is now deprecated in favor of `fill`; setting `fill=True`.\n",
      "This will become an error in seaborn v0.14.0; please update your code.\n",
      "\n",
      "  sns.kdeplot(dataNew['Dense4'], ax=ax2, shade=True,bw=4, color='b')\n"
     ]
    },
    {
     "data": {
      "text/plain": [
       "<Axes: title={'center': 'density Group -Dense4 & Corona Cases'}, xlabel='density Group -Dense4', ylabel='Corona Cases'>"
      ]
     },
     "execution_count": 52,
     "metadata": {},
     "output_type": "execute_result"
    },
    {
     "data": {
      "image/png": "[encoded data removed]",
      "text/plain": [
       "<Figure size 1000x1000 with 4 Axes>"
      ]
     },
     "metadata": {},
     "output_type": "display_data"
    }
   ],
   "source": [
    "#Plot different density groups\n",
    "fig = plt.figure(figsize=(10,10))\n",
    "title = fig.suptitle(\"Corona cases across different density groups\", fontsize=14)\n",
    "fig.subplots_adjust(top=0.85, wspace=0.3)\n",
    "\n",
    "ax1 = fig.add_subplot(2,2,1)\n",
    "ax1.set_title(\"density Group-Dense1 & Corona Cases\")\n",
    "ax1.set_xlabel(\"density Group -Dense1\")\n",
    "ax1.set_ylabel(\"Corona Cases\") \n",
    "sns.kdeplot(dataNew['Dense1'], ax=ax1, shade=True,bw=4, color='g')\n",
    "\n",
    "ax2 = fig.add_subplot(2,2,2)\n",
    "ax2.set_title(\"density Group -Dense2 & Corona Cases\")\n",
    "ax2.set_xlabel(\"density Group -Dense2\")\n",
    "ax2.set_ylabel(\"Corona Cases\") \n",
    "sns.kdeplot(dataNew['Dense2'], ax=ax2, shade=True,bw=4, color='y')\n",
    "\n",
    "ax2 = fig.add_subplot(2,2,3)\n",
    "ax2.set_title(\"density Group -Dense2 & Corona Cases\")\n",
    "ax2.set_xlabel(\"density Group -Dense3\")\n",
    "ax2.set_ylabel(\"Corona Cases\") \n",
    "sns.kdeplot(dataNew['Dense3'], ax=ax2, shade=True,bw=4, color='r')\n",
    "\n",
    "ax2 = fig.add_subplot(2,2,4)\n",
    "ax2.set_title(\"density Group -Dense4 & Corona Cases\")\n",
    "ax2.set_xlabel(\"density Group -Dense4\")\n",
    "ax2.set_ylabel(\"Corona Cases\") \n",
    "sns.kdeplot(dataNew['Dense4'], ax=ax2, shade=True,bw=4, color='b')"
   ]
  },
  {
   "cell_type": "code",
   "execution_count": 53,
   "metadata": {},
   "outputs": [
    {
     "data": {
      "text/plain": [
       "ShapiroResult(statistic=0.9425049424171448, pvalue=0.5812087059020996)"
      ]
     },
     "execution_count": 53,
     "metadata": {},
     "output_type": "execute_result"
    }
   ],
   "source": [
    "##############Assumptions check - Normality\n",
    "stats.shapiro(dataNew['Dense1'])"
   ]
  },
  {
   "cell_type": "code",
   "execution_count": 54,
   "metadata": {},
   "outputs": [
    {
     "data": {
      "text/plain": [
       "ShapiroResult(statistic=0.930978536605835, pvalue=0.45758628845214844)"
      ]
     },
     "execution_count": 54,
     "metadata": {},
     "output_type": "execute_result"
    }
   ],
   "source": [
    "stats.shapiro(dataNew['Dense2'])"
   ]
  },
  {
   "cell_type": "code",
   "execution_count": 55,
   "metadata": {},
   "outputs": [
    {
     "data": {
      "text/plain": [
       "ShapiroResult(statistic=0.9177395701408386, pvalue=0.338487446308136)"
      ]
     },
     "execution_count": 55,
     "metadata": {},
     "output_type": "execute_result"
    }
   ],
   "source": [
    "stats.shapiro(dataNew['Dense3'])"
   ]
  },
  {
   "cell_type": "code",
   "execution_count": 56,
   "metadata": {},
   "outputs": [
    {
     "data": {
      "text/plain": [
       "ShapiroResult(statistic=0.8361213207244873, pvalue=0.03964199125766754)"
      ]
     },
     "execution_count": 56,
     "metadata": {},
     "output_type": "execute_result"
    }
   ],
   "source": [
    "stats.shapiro(dataNew['Dense4'])\n"
   ]
  },
  {
   "cell_type": "code",
   "execution_count": 57,
   "metadata": {},
   "outputs": [
    {
     "data": {
      "text/plain": [
       "LeveneResult(statistic=0.641098393756367, pvalue=0.5935697080036051)"
      ]
     },
     "execution_count": 57,
     "metadata": {},
     "output_type": "execute_result"
    }
   ],
   "source": [
    "# Levene variance test  \n",
    "stats.levene(dataNew['Dense1'],dataNew['Dense2'],dataNew['Dense3'],dataNew['Dense4'])"
   ]
  },
  {
   "cell_type": "code",
   "execution_count": 50,
   "metadata": {},
   "outputs": [],
   "source": [
    "##p-value is more than 0.05 , So we can say that variances among groups are equal."
   ]
  },
  {
   "cell_type": "code",
   "execution_count": 58,
   "metadata": {},
   "outputs": [
    {
     "name": "stdout",
     "output_type": "stream",
     "text": [
      "F statistic = 2.8166230400581824 p value : 0.05280806346826715\n"
     ]
    }
   ],
   "source": [
    "F, p = stats.f_oneway(dataNew['Dense1'],dataNew['Dense2'],dataNew['Dense3'],dataNew['Dense4'])\n",
    "print('F statistic =', F, 'p value :',p)"
   ]
  },
  {
   "cell_type": "code",
   "execution_count": 59,
   "metadata": {},
   "outputs": [
    {
     "name": "stdout",
     "output_type": "stream",
     "text": [
      "F-Statistic=2.817, p=0.053\n"
     ]
    }
   ],
   "source": [
    "F, p = stats.f_oneway(dataNew['Dense1'],dataNew['Dense2'],dataNew['Dense3'],dataNew['Dense4'])\n",
    "# Seeing if the overall model is significant\n",
    "print('F-Statistic=%.3f, p=%.3f' % (F, p))"
   ]
  },
  {
   "cell_type": "code",
   "execution_count": 61,
   "metadata": {},
   "outputs": [
    {
     "name": "stdout",
     "output_type": "stream",
     "text": [
      "   density_Group     Count\n",
      "0         Dense1  2.415060\n",
      "1         Dense2  3.640431\n",
      "2         Dense3  3.121550\n",
      "3         Dense4  1.231096\n",
      "4         Dense1  6.100311\n",
      "5         Dense2  6.016371\n",
      "6         Dense3  2.349449\n",
      "7         Dense4  0.652797\n",
      "8         Dense1  2.667472\n",
      "9         Dense2  1.086272\n",
      "10        Dense3  3.402063\n",
      "11        Dense4  2.833516\n",
      "12        Dense1  4.729240\n",
      "13        Dense2  2.568594\n",
      "14        Dense3  3.223848\n",
      "15        Dense4  0.999555\n",
      "16        Dense1  1.322739\n",
      "17        Dense2  6.987236\n",
      "18        Dense3  5.631101\n",
      "19        Dense4  2.872094\n",
      "20        Dense1  3.221240\n",
      "21        Dense2  3.720844\n",
      "22        Dense3  4.796083\n",
      "23        Dense4  2.915846\n",
      "24        Dense1  5.662594\n",
      "25        Dense2  1.086272\n",
      "26        Dense3  3.139745\n",
      "27        Dense4  2.890144\n",
      "28        Dense1  1.058439\n",
      "29        Dense2  6.242542\n",
      "30        Dense3  1.046121\n",
      "31        Dense4  0.652797\n",
      "32        Dense1  4.964154\n",
      "33        Dense2  3.739879\n",
      "34        Dense3  3.157450\n",
      "35        Dense4  3.960724\n",
      "36        Dense1  3.200415\n",
      "37        Dense2  4.245393\n",
      "38        Dense3  5.435748\n",
      "39        Dense4  0.652797\n"
     ]
    }
   ],
   "source": [
    "#Rearrange DataFrame\n",
    "newDf=dataNew.stack().to_frame().reset_index().rename(columns={'level_1':'density_Group',\n",
    "                                                               0:'Count'})\n",
    "del newDf['level_0']\n",
    "print(newDf)\n"
   ]
  },
  {
   "cell_type": "code",
   "execution_count": 62,
   "metadata": {},
   "outputs": [
    {
     "data": {
      "text/html": [
       "<table class=\"simpletable\">\n",
       "<caption>OLS Regression Results</caption>\n",
       "<tr>\n",
       "  <th>Dep. Variable:</th>          <td>Count</td>      <th>  R-squared:         </th> <td>   0.190</td>\n",
       "</tr>\n",
       "<tr>\n",
       "  <th>Model:</th>                   <td>OLS</td>       <th>  Adj. R-squared:    </th> <td>   0.123</td>\n",
       "</tr>\n",
       "<tr>\n",
       "  <th>Method:</th>             <td>Least Squares</td>  <th>  F-statistic:       </th> <td>   2.817</td>\n",
       "</tr>\n",
       "<tr>\n",
       "  <th>Date:</th>             <td>Mon, 12 Jun 2023</td> <th>  Prob (F-statistic):</th>  <td>0.0528</td> \n",
       "</tr>\n",
       "<tr>\n",
       "  <th>Time:</th>                 <td>11:10:11</td>     <th>  Log-Likelihood:    </th> <td> -74.453</td>\n",
       "</tr>\n",
       "<tr>\n",
       "  <th>No. Observations:</th>      <td>    40</td>      <th>  AIC:               </th> <td>   156.9</td>\n",
       "</tr>\n",
       "<tr>\n",
       "  <th>Df Residuals:</th>          <td>    36</td>      <th>  BIC:               </th> <td>   163.7</td>\n",
       "</tr>\n",
       "<tr>\n",
       "  <th>Df Model:</th>              <td>     3</td>      <th>                     </th>     <td> </td>   \n",
       "</tr>\n",
       "<tr>\n",
       "  <th>Covariance Type:</th>      <td>nonrobust</td>    <th>                     </th>     <td> </td>   \n",
       "</tr>\n",
       "</table>\n",
       "<table class=\"simpletable\">\n",
       "<tr>\n",
       "               <td></td>                 <th>coef</th>     <th>std err</th>      <th>t</th>      <th>P>|t|</th>  <th>[0.025</th>    <th>0.975]</th>  \n",
       "</tr>\n",
       "<tr>\n",
       "  <th>Intercept</th>                  <td>    3.5342</td> <td>    0.519</td> <td>    6.812</td> <td> 0.000</td> <td>    2.482</td> <td>    4.586</td>\n",
       "</tr>\n",
       "<tr>\n",
       "  <th>C(density_Group)[T.Dense2]</th> <td>    0.3992</td> <td>    0.734</td> <td>    0.544</td> <td> 0.590</td> <td>   -1.089</td> <td>    1.887</td>\n",
       "</tr>\n",
       "<tr>\n",
       "  <th>C(density_Group)[T.Dense3]</th> <td>   -0.0039</td> <td>    0.734</td> <td>   -0.005</td> <td> 0.996</td> <td>   -1.492</td> <td>    1.484</td>\n",
       "</tr>\n",
       "<tr>\n",
       "  <th>C(density_Group)[T.Dense4]</th> <td>   -1.5680</td> <td>    0.734</td> <td>   -2.137</td> <td> 0.039</td> <td>   -3.056</td> <td>   -0.080</td>\n",
       "</tr>\n",
       "</table>\n",
       "<table class=\"simpletable\">\n",
       "<tr>\n",
       "  <th>Omnibus:</th>       <td> 1.926</td> <th>  Durbin-Watson:     </th> <td>   2.126</td>\n",
       "</tr>\n",
       "<tr>\n",
       "  <th>Prob(Omnibus):</th> <td> 0.382</td> <th>  Jarque-Bera (JB):  </th> <td>   1.196</td>\n",
       "</tr>\n",
       "<tr>\n",
       "  <th>Skew:</th>          <td> 0.054</td> <th>  Prob(JB):          </th> <td>   0.550</td>\n",
       "</tr>\n",
       "<tr>\n",
       "  <th>Kurtosis:</th>      <td> 2.160</td> <th>  Cond. No.          </th> <td>    4.79</td>\n",
       "</tr>\n",
       "</table><br/><br/>Notes:<br/>[1] Standard Errors assume that the covariance matrix of the errors is correctly specified."
      ],
      "text/latex": [
       "\\begin{center}\n",
       "\\begin{tabular}{lclc}\n",
       "\\toprule\n",
       "\\textbf{Dep. Variable:}              &      Count       & \\textbf{  R-squared:         } &     0.190   \\\\\n",
       "\\textbf{Model:}                      &       OLS        & \\textbf{  Adj. R-squared:    } &     0.123   \\\\\n",
       "\\textbf{Method:}                     &  Least Squares   & \\textbf{  F-statistic:       } &     2.817   \\\\\n",
       "\\textbf{Date:}                       & Mon, 12 Jun 2023 & \\textbf{  Prob (F-statistic):} &   0.0528    \\\\\n",
       "\\textbf{Time:}                       &     11:10:11     & \\textbf{  Log-Likelihood:    } &   -74.453   \\\\\n",
       "\\textbf{No. Observations:}           &          40      & \\textbf{  AIC:               } &     156.9   \\\\\n",
       "\\textbf{Df Residuals:}               &          36      & \\textbf{  BIC:               } &     163.7   \\\\\n",
       "\\textbf{Df Model:}                   &           3      & \\textbf{                     } &             \\\\\n",
       "\\textbf{Covariance Type:}            &    nonrobust     & \\textbf{                     } &             \\\\\n",
       "\\bottomrule\n",
       "\\end{tabular}\n",
       "\\begin{tabular}{lcccccc}\n",
       "                                     & \\textbf{coef} & \\textbf{std err} & \\textbf{t} & \\textbf{P$> |$t$|$} & \\textbf{[0.025} & \\textbf{0.975]}  \\\\\n",
       "\\midrule\n",
       "\\textbf{Intercept}                   &       3.5342  &        0.519     &     6.812  &         0.000        &        2.482    &        4.586     \\\\\n",
       "\\textbf{C(density\\_Group)[T.Dense2]} &       0.3992  &        0.734     &     0.544  &         0.590        &       -1.089    &        1.887     \\\\\n",
       "\\textbf{C(density\\_Group)[T.Dense3]} &      -0.0039  &        0.734     &    -0.005  &         0.996        &       -1.492    &        1.484     \\\\\n",
       "\\textbf{C(density\\_Group)[T.Dense4]} &      -1.5680  &        0.734     &    -2.137  &         0.039        &       -3.056    &       -0.080     \\\\\n",
       "\\bottomrule\n",
       "\\end{tabular}\n",
       "\\begin{tabular}{lclc}\n",
       "\\textbf{Omnibus:}       &  1.926 & \\textbf{  Durbin-Watson:     } &    2.126  \\\\\n",
       "\\textbf{Prob(Omnibus):} &  0.382 & \\textbf{  Jarque-Bera (JB):  } &    1.196  \\\\\n",
       "\\textbf{Skew:}          &  0.054 & \\textbf{  Prob(JB):          } &    0.550  \\\\\n",
       "\\textbf{Kurtosis:}      &  2.160 & \\textbf{  Cond. No.          } &     4.79  \\\\\n",
       "\\bottomrule\n",
       "\\end{tabular}\n",
       "%\\caption{OLS Regression Results}\n",
       "\\end{center}\n",
       "\n",
       "Notes: \\newline\n",
       " [1] Standard Errors assume that the covariance matrix of the errors is correctly specified."
      ],
      "text/plain": [
       "<class 'statsmodels.iolib.summary.Summary'>\n",
       "\"\"\"\n",
       "                            OLS Regression Results                            \n",
       "==============================================================================\n",
       "Dep. Variable:                  Count   R-squared:                       0.190\n",
       "Model:                            OLS   Adj. R-squared:                  0.123\n",
       "Method:                 Least Squares   F-statistic:                     2.817\n",
       "Date:                Mon, 12 Jun 2023   Prob (F-statistic):             0.0528\n",
       "Time:                        11:10:11   Log-Likelihood:                -74.453\n",
       "No. Observations:                  40   AIC:                             156.9\n",
       "Df Residuals:                      36   BIC:                             163.7\n",
       "Df Model:                           3                                         \n",
       "Covariance Type:            nonrobust                                         \n",
       "==============================================================================================\n",
       "                                 coef    std err          t      P>|t|      [0.025      0.975]\n",
       "----------------------------------------------------------------------------------------------\n",
       "Intercept                      3.5342      0.519      6.812      0.000       2.482       4.586\n",
       "C(density_Group)[T.Dense2]     0.3992      0.734      0.544      0.590      -1.089       1.887\n",
       "C(density_Group)[T.Dense3]    -0.0039      0.734     -0.005      0.996      -1.492       1.484\n",
       "C(density_Group)[T.Dense4]    -1.5680      0.734     -2.137      0.039      -3.056      -0.080\n",
       "==============================================================================\n",
       "Omnibus:                        1.926   Durbin-Watson:                   2.126\n",
       "Prob(Omnibus):                  0.382   Jarque-Bera (JB):                1.196\n",
       "Skew:                           0.054   Prob(JB):                        0.550\n",
       "Kurtosis:                       2.160   Cond. No.                         4.79\n",
       "==============================================================================\n",
       "\n",
       "Notes:\n",
       "[1] Standard Errors assume that the covariance matrix of the errors is correctly specified.\n",
       "\"\"\""
      ]
     },
     "execution_count": 62,
     "metadata": {},
     "output_type": "execute_result"
    }
   ],
   "source": [
    "################ using Ols Model\n",
    "model = ols('Count ~ C(density_Group)', newDf).fit()\n",
    "model.summary()"
   ]
  },
  {
   "cell_type": "code",
   "execution_count": 63,
   "metadata": {},
   "outputs": [
    {
     "name": "stdout",
     "output_type": "stream",
     "text": [
      "Overall model F( 3, 36) =  2.817, p =  0.0528\n"
     ]
    }
   ],
   "source": [
    "# Seeing if the overall model is significant\n",
    "print(f\"Overall model F({model.df_model: .0f},{model.df_resid: .0f}) = {model.fvalue: .3f}, p = {model.f_pvalue: .4f}\")"
   ]
  },
  {
   "cell_type": "code",
   "execution_count": 64,
   "metadata": {},
   "outputs": [
    {
     "data": {
      "text/html": [
       "<div>\n",
       "<style scoped>\n",
       "    .dataframe tbody tr th:only-of-type {\n",
       "        vertical-align: middle;\n",
       "    }\n",
       "\n",
       "    .dataframe tbody tr th {\n",
       "        vertical-align: top;\n",
       "    }\n",
       "\n",
       "    .dataframe thead th {\n",
       "        text-align: right;\n",
       "    }\n",
       "</style>\n",
       "<table border=\"1\" class=\"dataframe\">\n",
       "  <thead>\n",
       "    <tr style=\"text-align: right;\">\n",
       "      <th></th>\n",
       "      <th>sum_sq</th>\n",
       "      <th>df</th>\n",
       "      <th>F</th>\n",
       "      <th>PR(&gt;F)</th>\n",
       "    </tr>\n",
       "  </thead>\n",
       "  <tbody>\n",
       "    <tr>\n",
       "      <th>C(density_Group)</th>\n",
       "      <td>22.743216</td>\n",
       "      <td>3.0</td>\n",
       "      <td>2.816623</td>\n",
       "      <td>0.052808</td>\n",
       "    </tr>\n",
       "    <tr>\n",
       "      <th>Residual</th>\n",
       "      <td>96.895677</td>\n",
       "      <td>36.0</td>\n",
       "      <td>NaN</td>\n",
       "      <td>NaN</td>\n",
       "    </tr>\n",
       "  </tbody>\n",
       "</table>\n",
       "</div>"
      ],
      "text/plain": [
       "                     sum_sq    df         F    PR(>F)\n",
       "C(density_Group)  22.743216   3.0  2.816623  0.052808\n",
       "Residual          96.895677  36.0       NaN       NaN"
      ]
     },
     "execution_count": 64,
     "metadata": {},
     "output_type": "execute_result"
    }
   ],
   "source": [
    "# Creates the ANOVA table\n",
    "res = sm.stats.anova_lm(model, typ= 2)\n",
    "res"
   ]
  },
  {
   "cell_type": "code",
   "execution_count": 56,
   "metadata": {},
   "outputs": [],
   "source": [
    "#The F-statistic= 76.48 and the p-value= 8.557817e-33 which is indicating that there is an overall significant \n",
    "#effect of density_Group on corona positive cases. However, we don’t know where the difference between desnity_groups is yet.\n",
    "# This is in the post-hoc section. \n",
    "\n",
    "#So Based on p-value we can reject the H0; that is there's no significant difference as per density of an area \n",
    "#and number of corona cases"
   ]
  },
  {
   "cell_type": "code",
   "execution_count": 57,
   "metadata": {},
   "outputs": [],
   "source": [
    "#So what if you find statistical significance?  Multiple comparison tests\n",
    "\n",
    "#When you conduct an ANOVA, you are attempting to determine if there is a statistically significant difference among the groups.\n",
    "#If you find that there is a difference, you will then need to examine where the group differences lay."
   ]
  },
  {
   "cell_type": "code",
   "execution_count": 65,
   "metadata": {},
   "outputs": [
    {
     "data": {
      "text/plain": [
       "density_Group     object\n",
       "Count            float64\n",
       "dtype: object"
      ]
     },
     "execution_count": 65,
     "metadata": {},
     "output_type": "execute_result"
    }
   ],
   "source": [
    "newDf.dtypes"
   ]
  },
  {
   "cell_type": "code",
   "execution_count": 66,
   "metadata": {},
   "outputs": [
    {
     "data": {
      "text/html": [
       "<div>\n",
       "<style scoped>\n",
       "    .dataframe tbody tr th:only-of-type {\n",
       "        vertical-align: middle;\n",
       "    }\n",
       "\n",
       "    .dataframe tbody tr th {\n",
       "        vertical-align: top;\n",
       "    }\n",
       "\n",
       "    .dataframe thead th {\n",
       "        text-align: right;\n",
       "    }\n",
       "</style>\n",
       "<table border=\"1\" class=\"dataframe\">\n",
       "  <thead>\n",
       "    <tr style=\"text-align: right;\">\n",
       "      <th></th>\n",
       "      <th>density_Group</th>\n",
       "      <th>Count</th>\n",
       "    </tr>\n",
       "  </thead>\n",
       "  <tbody>\n",
       "    <tr>\n",
       "      <th>0</th>\n",
       "      <td>Dense1</td>\n",
       "      <td>2.415060</td>\n",
       "    </tr>\n",
       "    <tr>\n",
       "      <th>1</th>\n",
       "      <td>Dense2</td>\n",
       "      <td>3.640431</td>\n",
       "    </tr>\n",
       "    <tr>\n",
       "      <th>2</th>\n",
       "      <td>Dense3</td>\n",
       "      <td>3.121550</td>\n",
       "    </tr>\n",
       "    <tr>\n",
       "      <th>3</th>\n",
       "      <td>Dense4</td>\n",
       "      <td>1.231096</td>\n",
       "    </tr>\n",
       "    <tr>\n",
       "      <th>4</th>\n",
       "      <td>Dense1</td>\n",
       "      <td>6.100311</td>\n",
       "    </tr>\n",
       "  </tbody>\n",
       "</table>\n",
       "</div>"
      ],
      "text/plain": [
       "  density_Group     Count\n",
       "0        Dense1  2.415060\n",
       "1        Dense2  3.640431\n",
       "2        Dense3  3.121550\n",
       "3        Dense4  1.231096\n",
       "4        Dense1  6.100311"
      ]
     },
     "execution_count": 66,
     "metadata": {},
     "output_type": "execute_result"
    }
   ],
   "source": [
    "newDf.head()"
   ]
  },
  {
   "cell_type": "code",
   "execution_count": 67,
   "metadata": {},
   "outputs": [
    {
     "name": "stdout",
     "output_type": "stream",
     "text": [
      "Multiple Comparison of Means - Tukey HSD, FWER=0.05\n",
      "===================================================\n",
      "group1 group2 meandiff p-adj   lower  upper  reject\n",
      "---------------------------------------------------\n",
      "Dense1 Dense2   0.3992 0.9475 -1.5768 2.3752  False\n",
      "Dense1 Dense3  -0.0039    1.0 -1.9799 1.9722  False\n",
      "Dense1 Dense4   -1.568 0.1609  -3.544  0.408  False\n",
      "Dense2 Dense3  -0.4031 0.9461 -2.3791 1.5729  False\n",
      "Dense2 Dense4  -1.9672 0.0514 -3.9433 0.0088  False\n",
      "Dense3 Dense4  -1.5642 0.1625 -3.5402 0.4118  False\n",
      "---------------------------------------------------\n"
     ]
    }
   ],
   "source": [
    "#Post hoc test\n",
    "mc = statsmodels.stats.multicomp.MultiComparison(newDf['Count'],newDf['density_Group'])\n",
    "mc_results = mc.tukeyhsd()\n",
    "print(mc_results)"
   ]
  },
  {
   "cell_type": "code",
   "execution_count": 61,
   "metadata": {},
   "outputs": [],
   "source": [
    "#tuckey HSD test clearly says that there's a significant difference between Group1 & Group4"
   ]
  },
  {
   "cell_type": "code",
   "execution_count": 62,
   "metadata": {},
   "outputs": [],
   "source": [
    "#Above results from Tukey HSD suggests that except Dense1-Dense4 groups, all other pairwise comparisons for number of \n",
    "#corona cases rejects null hypothesis and indicates statistical significant differences."
   ]
  },
  {
   "cell_type": "code",
   "execution_count": 68,
   "metadata": {},
   "outputs": [
    {
     "name": "stdout",
     "output_type": "stream",
     "text": [
      "0.9636122584342957 0.22215929627418518\n"
     ]
    }
   ],
   "source": [
    "### Normality Assumption check\n",
    "w, pvalue = stats.shapiro(model.resid)\n",
    "print(w, pvalue)"
   ]
  },
  {
   "cell_type": "code",
   "execution_count": 69,
   "metadata": {},
   "outputs": [
    {
     "name": "stdout",
     "output_type": "stream",
     "text": [
      "2.490361290659014 0.47703553271440635\n"
     ]
    }
   ],
   "source": [
    "#Homogeneity of variances Assumption check\n",
    "w, pvalue = stats.bartlett(newDf['Count'][newDf['density_Group']=='Dense1'], newDf['Count'][newDf['density_Group']=='Dense2']\n",
    "                           , newDf['Count'][newDf['density_Group']=='Dense3'], newDf['Count'][newDf['density_Group']=='Dense4'])\n",
    "print(w, pvalue)"
   ]
  },
  {
   "cell_type": "code",
   "execution_count": 70,
   "metadata": {},
   "outputs": [
    {
     "data": {
      "image/png": "[encoded data removed]",
      "text/plain": [
       "<Figure size 640x480 with 1 Axes>"
      ]
     },
     "metadata": {},
     "output_type": "display_data"
    }
   ],
   "source": [
    "## Q-Q Plot for Normal Distribution check-\n",
    "#Check the Normal distribution of residuals\n",
    "res = model.resid \n",
    "fig = sm.qqplot(res, line='s')\n",
    "plt.show()"
   ]
  },
  {
   "cell_type": "code",
   "execution_count": null,
   "metadata": {},
   "outputs": [],
   "source": []
  },
  {
   "cell_type": "code",
   "execution_count": null,
   "metadata": {},
   "outputs": [],
   "source": []
  }
 ],
 "metadata": {
  "kernelspec": {
   "display_name": "Python 3",
   "language": "python",
   "name": "python3"
  },
  "language_info": {
   "codemirror_mode": {
    "name": "ipython",
    "version": 3
   },
   "file_extension": ".py",
   "mimetype": "text/x-python",
   "name": "python",
   "nbconvert_exporter": "python",
   "pygments_lexer": "ipython3",
   "version": "3.11.3"
  }
 },
 "nbformat": 4,
 "nbformat_minor": 4
}
